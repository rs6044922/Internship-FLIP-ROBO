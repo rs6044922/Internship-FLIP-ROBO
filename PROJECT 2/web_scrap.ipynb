{
  "nbformat": 4,
  "nbformat_minor": 0,
  "metadata": {
    "colab": {
      "name": "web scrap.ipynb",
      "provenance": [],
      "collapsed_sections": []
    },
    "kernelspec": {
      "name": "python3",
      "display_name": "Python 3"
    },
    "language_info": {
      "name": "python"
    }
  },
  "cells": [
    {
      "cell_type": "code",
      "metadata": {
        "colab": {
          "base_uri": "https://localhost:8080/"
        },
        "id": "-SIlDNp08vWz",
        "outputId": "ff6c2ef0-ddab-4c46-9904-505003de3fd8"
      },
      "source": [
        "!pip install bs4\n",
        "!pip install requests"
      ],
      "execution_count": 1,
      "outputs": [
        {
          "output_type": "stream",
          "text": [
            "Requirement already satisfied: bs4 in /usr/local/lib/python3.7/dist-packages (0.0.1)\n",
            "Requirement already satisfied: beautifulsoup4 in /usr/local/lib/python3.7/dist-packages (from bs4) (4.6.3)\n",
            "Requirement already satisfied: requests in /usr/local/lib/python3.7/dist-packages (2.23.0)\n",
            "Requirement already satisfied: certifi>=2017.4.17 in /usr/local/lib/python3.7/dist-packages (from requests) (2020.12.5)\n",
            "Requirement already satisfied: urllib3!=1.25.0,!=1.25.1,<1.26,>=1.21.1 in /usr/local/lib/python3.7/dist-packages (from requests) (1.24.3)\n",
            "Requirement already satisfied: chardet<4,>=3.0.2 in /usr/local/lib/python3.7/dist-packages (from requests) (3.0.4)\n",
            "Requirement already satisfied: idna<3,>=2.5 in /usr/local/lib/python3.7/dist-packages (from requests) (2.10)\n"
          ],
          "name": "stdout"
        }
      ]
    },
    {
      "cell_type": "code",
      "metadata": {
        "id": "I-780LXc80mj"
      },
      "source": [
        "from bs4 import BeautifulSoup\n",
        "import requests"
      ],
      "execution_count": 2,
      "outputs": []
    },
    {
      "cell_type": "markdown",
      "metadata": {
        "id": "AuPEfHDgsWSh"
      },
      "source": [
        "## **1. Write a python program to display all the header tags from ‘en.wikipedia.org/wiki/Main_Page’.**\n"
      ]
    },
    {
      "cell_type": "code",
      "metadata": {
        "colab": {
          "base_uri": "https://localhost:8080/"
        },
        "id": "T46xLqYs86vw",
        "outputId": "0572a733-2aab-48d2-8670-c01364db645d"
      },
      "source": [
        "page=requests.get('https://en.wikipedia.org/wiki/Main_Page')\n",
        "print(page)\n",
        "\n",
        "soup=BeautifulSoup(page.content)"
      ],
      "execution_count": 4,
      "outputs": [
        {
          "output_type": "stream",
          "text": [
            "<Response [200]>\n"
          ],
          "name": "stdout"
        }
      ]
    },
    {
      "cell_type": "code",
      "metadata": {
        "colab": {
          "base_uri": "https://localhost:8080/"
        },
        "id": "wTqw2w7b9CNA",
        "outputId": "f3462432-e6aa-43ba-edd3-de0bd63ec10c"
      },
      "source": [
        "title=soup.find_all(['h1','h2','h3','h4','h5'])\n",
        "print(*title,sep='\\n\\n')"
      ],
      "execution_count": 5,
      "outputs": [
        {
          "output_type": "stream",
          "text": [
            "<h1 class=\"firstHeading\" id=\"firstHeading\">Main Page</h1>\n",
            "\n",
            "<h2 class=\"mp-h2\" id=\"mp-tfa-h2\"><span id=\"From_today.27s_featured_article\"></span><span class=\"mw-headline\" id=\"From_today's_featured_article\">From today's featured article</span></h2>\n",
            "\n",
            "<h2 class=\"mp-h2\" id=\"mp-dyk-h2\"><span class=\"mw-headline\" id=\"Did_you_know_...\">Did you know ...</span></h2>\n",
            "\n",
            "<h2 class=\"mp-h2\" id=\"mp-itn-h2\"><span class=\"mw-headline\" id=\"In_the_news\">In the news</span></h2>\n",
            "\n",
            "<h2 class=\"mp-h2\" id=\"mp-otd-h2\"><span class=\"mw-headline\" id=\"On_this_day\">On this day</span></h2>\n",
            "\n",
            "<h2 class=\"mp-h2\" id=\"mp-tfp-h2\"><span id=\"Today.27s_featured_picture\"></span><span class=\"mw-headline\" id=\"Today's_featured_picture\">Today's featured picture</span></h2>\n",
            "\n",
            "<h2 class=\"mp-h2\" id=\"mp-other\"><span class=\"mw-headline\" id=\"Other_areas_of_Wikipedia\">Other areas of Wikipedia</span></h2>\n",
            "\n",
            "<h2 class=\"mp-h2\" id=\"mp-sister\"><span id=\"Wikipedia.27s_sister_projects\"></span><span class=\"mw-headline\" id=\"Wikipedia's_sister_projects\">Wikipedia's sister projects</span></h2>\n",
            "\n",
            "<h2 class=\"mp-h2\" id=\"mp-lang\"><span class=\"mw-headline\" id=\"Wikipedia_languages\">Wikipedia languages</span></h2>\n",
            "\n",
            "<h2>Navigation menu</h2>\n",
            "\n",
            "<h3 class=\"vector-menu-heading\" id=\"p-personal-label\">\n",
            "<span>Personal tools</span>\n",
            "</h3>\n",
            "\n",
            "<h3 class=\"vector-menu-heading\" id=\"p-namespaces-label\">\n",
            "<span>Namespaces</span>\n",
            "</h3>\n",
            "\n",
            "<h3 class=\"vector-menu-heading\" id=\"p-variants-label\">\n",
            "<span>Variants</span>\n",
            "</h3>\n",
            "\n",
            "<h3 class=\"vector-menu-heading\" id=\"p-views-label\">\n",
            "<span>Views</span>\n",
            "</h3>\n",
            "\n",
            "<h3 class=\"vector-menu-heading\" id=\"p-cactions-label\">\n",
            "<span>More</span>\n",
            "</h3>\n",
            "\n",
            "<h3>\n",
            "<label for=\"searchInput\">Search</label>\n",
            "</h3>\n",
            "\n",
            "<h3 class=\"vector-menu-heading\" id=\"p-navigation-label\">\n",
            "<span>Navigation</span>\n",
            "</h3>\n",
            "\n",
            "<h3 class=\"vector-menu-heading\" id=\"p-interaction-label\">\n",
            "<span>Contribute</span>\n",
            "</h3>\n",
            "\n",
            "<h3 class=\"vector-menu-heading\" id=\"p-tb-label\">\n",
            "<span>Tools</span>\n",
            "</h3>\n",
            "\n",
            "<h3 class=\"vector-menu-heading\" id=\"p-coll-print_export-label\">\n",
            "<span>Print/export</span>\n",
            "</h3>\n",
            "\n",
            "<h3 class=\"vector-menu-heading\" id=\"p-wikibase-otherprojects-label\">\n",
            "<span>In other projects</span>\n",
            "</h3>\n",
            "\n",
            "<h3 class=\"vector-menu-heading\" id=\"p-lang-label\">\n",
            "<span>Languages</span>\n",
            "</h3>\n"
          ],
          "name": "stdout"
        }
      ]
    },
    {
      "cell_type": "code",
      "metadata": {
        "id": "ek1XoW9EHZ6D"
      },
      "source": [
        ""
      ],
      "execution_count": null,
      "outputs": []
    },
    {
      "cell_type": "markdown",
      "metadata": {
        "id": "jFI3FeYGsoJA"
      },
      "source": [
        "## **2. Write a python program to display IMDB’s Top rated 100 movies’ data (i.e. Name, IMDB rating, Year of release) and make data frame.**"
      ]
    },
    {
      "cell_type": "code",
      "metadata": {
        "colab": {
          "base_uri": "https://localhost:8080/"
        },
        "id": "AhFwRp389EtX",
        "outputId": "5b085374-35c1-444e-d80a-e2ff5cfa290f"
      },
      "source": [
        "imdb_page=requests.get('https://www.imdb.com/chart/top/')\n",
        "print(imdb_page)\n",
        "\n",
        "imdb_soup=BeautifulSoup(imdb_page.content)"
      ],
      "execution_count": 6,
      "outputs": [
        {
          "output_type": "stream",
          "text": [
            "<Response [200]>\n"
          ],
          "name": "stdout"
        }
      ]
    },
    {
      "cell_type": "code",
      "metadata": {
        "colab": {
          "base_uri": "https://localhost:8080/"
        },
        "id": "Ms6BgOjt9ExH",
        "outputId": "6506d649-cdd2-4a58-b16f-2392cc3cdc8a"
      },
      "source": [
        "movie_name=imdb_soup.find_all('td',class_='titleColumn')\n",
        "\n",
        "column_movie=[]\n",
        "for i in movie_name:\n",
        "    column_movie.append(i.text.split('\\n'))\n",
        "column_movie=column_movie[:100]  \n",
        "\n",
        "movies_100=[]\n",
        "for l in column_movie:\n",
        "  movies_100.append(l[2].strip())\n",
        "print(movies_100)"
      ],
      "execution_count": 7,
      "outputs": [
        {
          "output_type": "stream",
          "text": [
            "['The Shawshank Redemption', 'The Godfather', 'The Godfather: Part II', 'The Dark Knight', 'De 12 gezworenen', \"Schindler's List\", 'The Lord of the Rings: The Return of the King', 'Pulp Fiction', 'The Good, the Bad and the Ugly', 'The Lord of the Rings: The Fellowship of the Ring', 'Fight Club', 'Forrest Gump', 'Inception', 'The Lord of the Rings: The Two Towers', 'Star Wars: Episode V - The Empire Strikes Back', 'The Matrix', 'Goodfellas', \"One Flew Over the Cuckoo's Nest\", 'Shichinin no samurai', 'Seven', 'The Silence of the Lambs', 'Cidade de Deus', \"It's a Wonderful Life\", 'Het leven is mooi', 'Star Wars: Episode IV - A New Hope', 'Saving Private Ryan', 'Spirited Away', 'The Green Mile', 'Interstellar', 'Gisaengchung', 'Léon', 'Seppuku', 'The Usual Suspects', 'The Pianist', 'Terug naar de toekomst', 'Terminator 2: Judgment Day', 'Modern Times', 'Psycho', 'The Lion King', 'American History X', 'City Lights', 'Gladiator', 'Whiplash', 'The Departed', 'Hotaru no haka', 'The Intouchables', 'The Prestige', 'Casablanca', 'Once Upon a Time in the West', 'Rear Window', 'Nuovo Cinema Paradiso', 'Alien', 'Apocalypse Now', 'Memento', 'Indiana Jones and the Raiders of the Lost Ark', 'De dictator', 'Das Leben der Anderen', 'Django Unchained', 'Het veld van eer', 'Sunset Boulevard', 'WALL·E', 'The Shining', 'Avengers: Infinity War', 'Witness for the Prosecution', 'Joker', 'Dr. Strangelove or: How I Learned to Stop Worrying and Love the Bomb', 'Spider-Man: Een nieuw universum', 'Mononoke-hime', 'Oldeuboi', 'Hamilton', 'Once Upon a Time in America', 'Kimi no na wa.', 'The Dark Knight Rises', 'Aliens', 'Pather Panchali', 'Coco', 'Das Boot', 'Capharnaüm', 'Tengoku to jigoku', 'Avengers: Endgame', 'American Beauty', 'Toy Story', 'Braveheart', 'Amadeus', '3 Idiots', 'Inglourious Basterds', 'Good Will Hunting', 'Star Wars: Episode VI - Return of the Jedi', '2001: Een zwerftocht in de ruimte', 'Reservoir Dogs', 'M - Eine Stadt sucht einen Mörder', 'Taare Zameen Par', 'Citizen Kane', 'Vertigo', 'Requiem for a Dream', 'Jagten', \"Singin' in the Rain\", 'North by Northwest', 'Idi i smotri', 'Eternal Sunshine of the Spotless Mind']\n"
          ],
          "name": "stdout"
        }
      ]
    },
    {
      "cell_type": "code",
      "metadata": {
        "colab": {
          "base_uri": "https://localhost:8080/"
        },
        "id": "PzP1xcpJ9E3E",
        "outputId": "6da39494-d3dd-4b64-f42c-7b4bf6c45d25"
      },
      "source": [
        "movie_year=imdb_soup.find_all('span',class_='secondaryInfo')\n",
        "movie_year[:100]\n",
        "\n",
        "column_year=[]\n",
        "for i in movie_year[:100]:\n",
        "    column_year.append(i.text.strip('()'))\n",
        "print(column_year[:100])"
      ],
      "execution_count": 8,
      "outputs": [
        {
          "output_type": "stream",
          "text": [
            "['1994', '1972', '1974', '2008', '1957', '1993', '2003', '1994', '1966', '2001', '1999', '1994', '2010', '2002', '1980', '1999', '1990', '1975', '1954', '1995', '1991', '2002', '1946', '1997', '1977', '1998', '2001', '1999', '2014', '2019', '1994', '1962', '1995', '2002', '1985', '1991', '1936', '1960', '1994', '1998', '1931', '2000', '2014', '2006', '1988', '2011', '2006', '1942', '1968', '1954', '1988', '1979', '1979', '2000', '1981', '1940', '2006', '2012', '1957', '1950', '2008', '1980', '2018', '1957', '2019', '1964', '2018', '1997', '2003', '2020', '1984', '2016', '2012', '1986', '1955', '2017', '1981', '2018', '1963', '2019', '1999', '1995', '1995', '1984', '2009', '2009', '1997', '1983', '1968', '1992', '1931', '2007', '1941', '1958', '2000', '2012', '1952', '1959', '1985', '2004']\n"
          ],
          "name": "stdout"
        }
      ]
    },
    {
      "cell_type": "code",
      "metadata": {
        "colab": {
          "base_uri": "https://localhost:8080/"
        },
        "id": "EADIO-ZaCJ84",
        "outputId": "e9fb8dee-f503-4828-8271-605e6f15d258"
      },
      "source": [
        "movie_rate=imdb_soup.find_all('td',class_='ratingColumn imdbRating')\n",
        "\n",
        "column_rate=[]\n",
        "for i in movie_rate[0:100]:\n",
        "    column_rate.append(i.text.strip())\n",
        "print(column_rate[:100])"
      ],
      "execution_count": 9,
      "outputs": [
        {
          "output_type": "stream",
          "text": [
            "['9.2', '9.1', '9.0', '9.0', '8.9', '8.9', '8.9', '8.8', '8.8', '8.8', '8.8', '8.7', '8.7', '8.7', '8.7', '8.6', '8.6', '8.6', '8.6', '8.6', '8.6', '8.6', '8.6', '8.6', '8.6', '8.5', '8.5', '8.5', '8.5', '8.5', '8.5', '8.5', '8.5', '8.5', '8.5', '8.5', '8.5', '8.5', '8.5', '8.5', '8.5', '8.5', '8.5', '8.5', '8.5', '8.5', '8.5', '8.4', '8.4', '8.4', '8.4', '8.4', '8.4', '8.4', '8.4', '8.4', '8.4', '8.4', '8.4', '8.4', '8.4', '8.4', '8.4', '8.4', '8.4', '8.4', '8.3', '8.3', '8.3', '8.3', '8.3', '8.3', '8.3', '8.3', '8.3', '8.3', '8.3', '8.3', '8.3', '8.3', '8.3', '8.3', '8.3', '8.3', '8.3', '8.3', '8.3', '8.3', '8.3', '8.3', '8.3', '8.3', '8.3', '8.3', '8.3', '8.3', '8.3', '8.3', '8.3', '8.3']\n"
          ],
          "name": "stdout"
        }
      ]
    },
    {
      "cell_type": "code",
      "metadata": {
        "id": "KFj2ySdPJDAR",
        "colab": {
          "base_uri": "https://localhost:8080/",
          "height": 407
        },
        "outputId": "32be397a-15c5-4d9b-e390-536abda7d768"
      },
      "source": [
        "import pandas as pd\n",
        "TopMovies=pd.DataFrame({})\n",
        "TopMovies['Names']=movies_100\n",
        "TopMovies['ReleaseYear']=column_year\n",
        "TopMovies['Rating']=column_rate\n",
        "\n",
        "TopMovies"
      ],
      "execution_count": 10,
      "outputs": [
        {
          "output_type": "execute_result",
          "data": {
            "text/html": [
              "<div>\n",
              "<style scoped>\n",
              "    .dataframe tbody tr th:only-of-type {\n",
              "        vertical-align: middle;\n",
              "    }\n",
              "\n",
              "    .dataframe tbody tr th {\n",
              "        vertical-align: top;\n",
              "    }\n",
              "\n",
              "    .dataframe thead th {\n",
              "        text-align: right;\n",
              "    }\n",
              "</style>\n",
              "<table border=\"1\" class=\"dataframe\">\n",
              "  <thead>\n",
              "    <tr style=\"text-align: right;\">\n",
              "      <th></th>\n",
              "      <th>Names</th>\n",
              "      <th>ReleaseYear</th>\n",
              "      <th>Rating</th>\n",
              "    </tr>\n",
              "  </thead>\n",
              "  <tbody>\n",
              "    <tr>\n",
              "      <th>0</th>\n",
              "      <td>The Shawshank Redemption</td>\n",
              "      <td>1994</td>\n",
              "      <td>9.2</td>\n",
              "    </tr>\n",
              "    <tr>\n",
              "      <th>1</th>\n",
              "      <td>The Godfather</td>\n",
              "      <td>1972</td>\n",
              "      <td>9.1</td>\n",
              "    </tr>\n",
              "    <tr>\n",
              "      <th>2</th>\n",
              "      <td>The Godfather: Part II</td>\n",
              "      <td>1974</td>\n",
              "      <td>9.0</td>\n",
              "    </tr>\n",
              "    <tr>\n",
              "      <th>3</th>\n",
              "      <td>The Dark Knight</td>\n",
              "      <td>2008</td>\n",
              "      <td>9.0</td>\n",
              "    </tr>\n",
              "    <tr>\n",
              "      <th>4</th>\n",
              "      <td>De 12 gezworenen</td>\n",
              "      <td>1957</td>\n",
              "      <td>8.9</td>\n",
              "    </tr>\n",
              "    <tr>\n",
              "      <th>...</th>\n",
              "      <td>...</td>\n",
              "      <td>...</td>\n",
              "      <td>...</td>\n",
              "    </tr>\n",
              "    <tr>\n",
              "      <th>95</th>\n",
              "      <td>Jagten</td>\n",
              "      <td>2012</td>\n",
              "      <td>8.3</td>\n",
              "    </tr>\n",
              "    <tr>\n",
              "      <th>96</th>\n",
              "      <td>Singin' in the Rain</td>\n",
              "      <td>1952</td>\n",
              "      <td>8.3</td>\n",
              "    </tr>\n",
              "    <tr>\n",
              "      <th>97</th>\n",
              "      <td>North by Northwest</td>\n",
              "      <td>1959</td>\n",
              "      <td>8.3</td>\n",
              "    </tr>\n",
              "    <tr>\n",
              "      <th>98</th>\n",
              "      <td>Idi i smotri</td>\n",
              "      <td>1985</td>\n",
              "      <td>8.3</td>\n",
              "    </tr>\n",
              "    <tr>\n",
              "      <th>99</th>\n",
              "      <td>Eternal Sunshine of the Spotless Mind</td>\n",
              "      <td>2004</td>\n",
              "      <td>8.3</td>\n",
              "    </tr>\n",
              "  </tbody>\n",
              "</table>\n",
              "<p>100 rows × 3 columns</p>\n",
              "</div>"
            ],
            "text/plain": [
              "                                    Names ReleaseYear Rating\n",
              "0                The Shawshank Redemption        1994    9.2\n",
              "1                           The Godfather        1972    9.1\n",
              "2                  The Godfather: Part II        1974    9.0\n",
              "3                         The Dark Knight        2008    9.0\n",
              "4                        De 12 gezworenen        1957    8.9\n",
              "..                                    ...         ...    ...\n",
              "95                                 Jagten        2012    8.3\n",
              "96                    Singin' in the Rain        1952    8.3\n",
              "97                     North by Northwest        1959    8.3\n",
              "98                           Idi i smotri        1985    8.3\n",
              "99  Eternal Sunshine of the Spotless Mind        2004    8.3\n",
              "\n",
              "[100 rows x 3 columns]"
            ]
          },
          "metadata": {
            "tags": []
          },
          "execution_count": 10
        }
      ]
    },
    {
      "cell_type": "code",
      "metadata": {
        "id": "O5gbI-vgQCm8"
      },
      "source": [
        ""
      ],
      "execution_count": null,
      "outputs": []
    },
    {
      "cell_type": "markdown",
      "metadata": {
        "id": "fPhYzN5dtOl0"
      },
      "source": [
        "## **3. Write a python program to display IMDB’s Top rated 100 Indian movies’ data (i.e. Name, IMDB rating, Year of release) and make data frame.** "
      ]
    },
    {
      "cell_type": "code",
      "metadata": {
        "colab": {
          "base_uri": "https://localhost:8080/"
        },
        "id": "hwHrXiVFEVsp",
        "outputId": "f351655e-8f8b-4498-ee32-50c2a0c1c868"
      },
      "source": [
        "imdb_page=requests.get('https://www.imdb.com/india/top-rated-indian-movies/')\n",
        "print(imdb_page)\n",
        "\n",
        "imdb_soup=BeautifulSoup(imdb_page.content)\n"
      ],
      "execution_count": 11,
      "outputs": [
        {
          "output_type": "stream",
          "text": [
            "<Response [200]>\n"
          ],
          "name": "stdout"
        }
      ]
    },
    {
      "cell_type": "code",
      "metadata": {
        "colab": {
          "base_uri": "https://localhost:8080/"
        },
        "id": "60Qfe3LZEVtC",
        "outputId": "0c26e4d2-74a5-4d39-e595-ecbdeefee093"
      },
      "source": [
        "movie_name=imdb_soup.find_all('td',class_='titleColumn')\n",
        "\n",
        "column_movie=[]\n",
        "for i in movie_name:\n",
        "    column_movie.append(i.text.split('\\n'))\n",
        "column_movie=column_movie[:100]  \n",
        "column_movie\n",
        "\n",
        "movies_100=[]\n",
        "for l in column_movie:\n",
        "  movies_100.append(l[2].strip())\n",
        "print(movies_100)"
      ],
      "execution_count": 12,
      "outputs": [
        {
          "output_type": "stream",
          "text": [
            "['Pather Panchali', 'Nayakan', 'Pariyerum Perumal', 'Anbe Sivam', 'Golmaal', 'Apur Sansar', 'C/o Kancharapalem', 'Kireedam', 'Manichitrathazhu', 'Drishyam 2', 'Natsamrat', '96', 'Black Friday', 'Thevar Magan', 'Kumbalangi Nights', '3 Idiots', 'Visaaranai', 'Taare Zameen Par', 'Ratsasan', 'Jersey', 'Thalapathi', 'Dangal', 'Soorarai Pottru', 'Asuran', 'Kaithi', 'Aparajito', 'Devasuram', 'Jaane Bhi Do Yaaro', 'Pyaasa', 'Peranbu', 'Guide', 'Vada Chennai', 'Thani Oruvan', 'Kannathil Muthamittal', 'Chupke Chupke', 'Iruvar', 'Spadikam', 'Drishyam', 'Agent Sai Srinivasa Athreya', 'Vikram Vedha', 'Super Deluxe', 'Aruvi', 'Tumbbad', 'Mahanati', 'Khosla Ka Ghosla!', 'Anand', 'Pudhu Pettai', 'Premam', 'Anniyan', 'Kaakkaa Muttai', 'Andhadhun', 'Bangalore Days', 'Dhuruvangal Pathinaaru', 'Mudhalvan', 'Papanasam', 'Satya', 'Shahid', 'Soodhu Kavvum', 'Jigarthanda', 'Pithamagan', 'Gangs of Wasseypur', 'Sairat', 'Paan Singh Tomar', 'Bhaag Milkha Bhaag', 'Talvar', 'Hera Pheri', 'Swades: We, the People', 'Sholay', 'Black', 'Chak De! India', 'Ustad Hotel', 'Nil Battey Sannata', 'Jo Jeeta Wohi Sikandar', 'Charulata', 'Drishyam', 'Mughal-E-Azam', 'Maheshinte Prathikaaram', 'Zindagi Na Milegi Dobara', 'Article 15', 'Udaan', 'A Wednesday', 'Queen', 'Theeran adhigaaram ondru', 'Masaan', 'Sarfarosh', 'Munna Bhai M.B.B.S.', 'Alai Payuthey', 'Dil Chahta Hai', 'Roja', 'OMG: Oh My God!', 'Baasha', 'Rang De Basanti', 'Lagaan: Once Upon a Time in India', 'Kahaani', 'Andaz Apna Apna', 'Chhichhore', 'Uri: The Surgical Strike', 'Virumandi', 'PK', 'Lucia']\n"
          ],
          "name": "stdout"
        }
      ]
    },
    {
      "cell_type": "code",
      "metadata": {
        "colab": {
          "base_uri": "https://localhost:8080/"
        },
        "id": "dJ6Rz3nUEVtF",
        "outputId": "6e836eda-9e91-4a91-a299-535a11930775"
      },
      "source": [
        "movie_year=imdb_soup.find_all('span',class_='secondaryInfo')\n",
        "\n",
        "column_year=[]\n",
        "for i in movie_year[:100]:\n",
        "    column_year.append(i.text.strip('()'))\n",
        "print(column_year[:100])"
      ],
      "execution_count": 13,
      "outputs": [
        {
          "output_type": "stream",
          "text": [
            "['1955', '1987', '2018', '2003', '1979', '1959', '2018', '1989', '1993', '2021', '2016', '2018', '2004', '1992', '2019', '2009', '2015', '2007', '2018', '2019', '1991', '2016', '2020', '2019', '2019', '1956', '1993', '1983', '1957', '2018', '1965', '2018', '2015', '2002', '1975', '1997', '1995', '2013', '2019', '2017', '2019', '2016', '2018', '2018', '2006', '1971', '2006', '2015', '2005', '2014', '2018', '2014', '2016', '1999', '2015', '1998', '2012', '2013', '2014', '2003', '2012', '2016', '2012', '2013', '2015', '2000', '2004', '1975', '2005', '2007', '2012', '2015', '1992', '1964', '2015', '1960', '2016', '2011', '2019', '2010', '2008', '2013', '2017', '2015', '1999', '2003', '2000', '2001', '1992', '2012', '1995', '2006', '2001', '2012', '1994', '2019', '2018', '2004', '2014', '2013']\n"
          ],
          "name": "stdout"
        }
      ]
    },
    {
      "cell_type": "code",
      "metadata": {
        "colab": {
          "base_uri": "https://localhost:8080/"
        },
        "id": "ypBlyP2ZEVtH",
        "outputId": "d85b7ec5-defa-40d1-9592-e0160d7f6ff8"
      },
      "source": [
        "movie_rate=imdb_soup.find_all('td',class_='ratingColumn imdbRating')\n",
        "\n",
        "column_rate=[]\n",
        "for i in movie_rate[0:100]:\n",
        "    column_rate.append(i.text.strip())\n",
        "print(column_rate[:100])"
      ],
      "execution_count": 14,
      "outputs": [
        {
          "output_type": "stream",
          "text": [
            "['8.5', '8.5', '8.5', '8.5', '8.5', '8.5', '8.5', '8.4', '8.4', '8.4', '8.4', '8.4', '8.4', '8.4', '8.4', '8.3', '8.3', '8.3', '8.3', '8.3', '8.3', '8.3', '8.3', '8.3', '8.3', '8.3', '8.3', '8.3', '8.3', '8.3', '8.3', '8.3', '8.2', '8.2', '8.2', '8.2', '8.2', '8.2', '8.2', '8.2', '8.2', '8.2', '8.2', '8.2', '8.2', '8.2', '8.2', '8.2', '8.2', '8.2', '8.2', '8.2', '8.2', '8.2', '8.2', '8.2', '8.2', '8.2', '8.1', '8.1', '8.1', '8.1', '8.1', '8.1', '8.1', '8.1', '8.1', '8.1', '8.1', '8.1', '8.1', '8.1', '8.1', '8.1', '8.1', '8.1', '8.1', '8.1', '8.1', '8.1', '8.1', '8.1', '8.1', '8.1', '8.1', '8.1', '8.1', '8.1', '8.1', '8.1', '8.1', '8.1', '8.1', '8.1', '8.1', '8.1', '8.1', '8.1', '8.1', '8.1']\n"
          ],
          "name": "stdout"
        }
      ]
    },
    {
      "cell_type": "code",
      "metadata": {
        "id": "o1PJIa6FEVtJ",
        "colab": {
          "base_uri": "https://localhost:8080/",
          "height": 407
        },
        "outputId": "1f29b9f2-f14b-4339-e237-d1855d6aea4d"
      },
      "source": [
        "import pandas as pd\n",
        "TopMovies=pd.DataFrame({})\n",
        "TopMovies['Names']=movies_100\n",
        "TopMovies['ReleaseYear']=column_year\n",
        "TopMovies['Rating']=column_rate\n",
        "\n",
        "TopMovies"
      ],
      "execution_count": 15,
      "outputs": [
        {
          "output_type": "execute_result",
          "data": {
            "text/html": [
              "<div>\n",
              "<style scoped>\n",
              "    .dataframe tbody tr th:only-of-type {\n",
              "        vertical-align: middle;\n",
              "    }\n",
              "\n",
              "    .dataframe tbody tr th {\n",
              "        vertical-align: top;\n",
              "    }\n",
              "\n",
              "    .dataframe thead th {\n",
              "        text-align: right;\n",
              "    }\n",
              "</style>\n",
              "<table border=\"1\" class=\"dataframe\">\n",
              "  <thead>\n",
              "    <tr style=\"text-align: right;\">\n",
              "      <th></th>\n",
              "      <th>Names</th>\n",
              "      <th>ReleaseYear</th>\n",
              "      <th>Rating</th>\n",
              "    </tr>\n",
              "  </thead>\n",
              "  <tbody>\n",
              "    <tr>\n",
              "      <th>0</th>\n",
              "      <td>Pather Panchali</td>\n",
              "      <td>1955</td>\n",
              "      <td>8.5</td>\n",
              "    </tr>\n",
              "    <tr>\n",
              "      <th>1</th>\n",
              "      <td>Nayakan</td>\n",
              "      <td>1987</td>\n",
              "      <td>8.5</td>\n",
              "    </tr>\n",
              "    <tr>\n",
              "      <th>2</th>\n",
              "      <td>Pariyerum Perumal</td>\n",
              "      <td>2018</td>\n",
              "      <td>8.5</td>\n",
              "    </tr>\n",
              "    <tr>\n",
              "      <th>3</th>\n",
              "      <td>Anbe Sivam</td>\n",
              "      <td>2003</td>\n",
              "      <td>8.5</td>\n",
              "    </tr>\n",
              "    <tr>\n",
              "      <th>4</th>\n",
              "      <td>Golmaal</td>\n",
              "      <td>1979</td>\n",
              "      <td>8.5</td>\n",
              "    </tr>\n",
              "    <tr>\n",
              "      <th>...</th>\n",
              "      <td>...</td>\n",
              "      <td>...</td>\n",
              "      <td>...</td>\n",
              "    </tr>\n",
              "    <tr>\n",
              "      <th>95</th>\n",
              "      <td>Chhichhore</td>\n",
              "      <td>2019</td>\n",
              "      <td>8.1</td>\n",
              "    </tr>\n",
              "    <tr>\n",
              "      <th>96</th>\n",
              "      <td>Uri: The Surgical Strike</td>\n",
              "      <td>2018</td>\n",
              "      <td>8.1</td>\n",
              "    </tr>\n",
              "    <tr>\n",
              "      <th>97</th>\n",
              "      <td>Virumandi</td>\n",
              "      <td>2004</td>\n",
              "      <td>8.1</td>\n",
              "    </tr>\n",
              "    <tr>\n",
              "      <th>98</th>\n",
              "      <td>PK</td>\n",
              "      <td>2014</td>\n",
              "      <td>8.1</td>\n",
              "    </tr>\n",
              "    <tr>\n",
              "      <th>99</th>\n",
              "      <td>Lucia</td>\n",
              "      <td>2013</td>\n",
              "      <td>8.1</td>\n",
              "    </tr>\n",
              "  </tbody>\n",
              "</table>\n",
              "<p>100 rows × 3 columns</p>\n",
              "</div>"
            ],
            "text/plain": [
              "                       Names ReleaseYear Rating\n",
              "0            Pather Panchali        1955    8.5\n",
              "1                    Nayakan        1987    8.5\n",
              "2          Pariyerum Perumal        2018    8.5\n",
              "3                 Anbe Sivam        2003    8.5\n",
              "4                    Golmaal        1979    8.5\n",
              "..                       ...         ...    ...\n",
              "95                Chhichhore        2019    8.1\n",
              "96  Uri: The Surgical Strike        2018    8.1\n",
              "97                 Virumandi        2004    8.1\n",
              "98                        PK        2014    8.1\n",
              "99                     Lucia        2013    8.1\n",
              "\n",
              "[100 rows x 3 columns]"
            ]
          },
          "metadata": {
            "tags": []
          },
          "execution_count": 15
        }
      ]
    },
    {
      "cell_type": "code",
      "metadata": {
        "id": "bUrTrk6mEmXV"
      },
      "source": [
        ""
      ],
      "execution_count": null,
      "outputs": []
    },
    {
      "cell_type": "markdown",
      "metadata": {
        "id": "BPc_ovEdtcqb"
      },
      "source": [
        "## **4. Write a python program to scrap book name, author name, genre and book review of any 5 books from ‘www.bookpage.com’**\n"
      ]
    },
    {
      "cell_type": "code",
      "metadata": {
        "colab": {
          "base_uri": "https://localhost:8080/"
        },
        "id": "qzthuWFAEm8f",
        "outputId": "1dfe962b-72ae-452b-84d4-24b6dca33186"
      },
      "source": [
        "book_page=requests.get('https://bookpage.com/reviews?page=1')\n",
        "print(book_page)\n",
        "\n",
        "book_soup=BeautifulSoup(book_page.content)"
      ],
      "execution_count": 19,
      "outputs": [
        {
          "output_type": "stream",
          "text": [
            "<Response [200]>\n"
          ],
          "name": "stdout"
        }
      ]
    },
    {
      "cell_type": "code",
      "metadata": {
        "colab": {
          "base_uri": "https://localhost:8080/"
        },
        "id": "oY0wRxLmFn0T",
        "outputId": "6b4eeee5-f33b-4240-bd34-8160e70894e0"
      },
      "source": [
        "book_name=book_soup.find_all('h4',class_='italic')\n",
        "\n",
        "column_book=[]\n",
        "for i in book_name:\n",
        "    column_book.append(i.text.strip())\n",
        "column_book=column_book[:5]  \n",
        "print(column_book)"
      ],
      "execution_count": 20,
      "outputs": [
        {
          "output_type": "stream",
          "text": [
            "['★ The One Hundred Years of Lenni and Margot', 'We Can’t Keep Meeting Like This', '★ The Ride of Her Life', '★ Golden Girl', 'The Road Trip']\n"
          ],
          "name": "stdout"
        }
      ]
    },
    {
      "cell_type": "code",
      "metadata": {
        "colab": {
          "base_uri": "https://localhost:8080/"
        },
        "id": "xpUKPBSfGpV1",
        "outputId": "15c2b689-b51c-4598-c1d9-d792950a43e9"
      },
      "source": [
        "book_author=book_soup.find_all('p',class_='sans bold')\n",
        "\n",
        "column_author=[]\n",
        "for i in book_author:\n",
        "    column_author.append(i.text.strip())\n",
        "column_author=column_author[:5]  \n",
        "print(column_author)"
      ],
      "execution_count": 21,
      "outputs": [
        {
          "output_type": "stream",
          "text": [
            "['Marianne Cronin', 'Rachel Lynn Solomon', 'Elizabeth Letts', 'Elin Hilderbrand', \"Beth O'Leary\"]\n"
          ],
          "name": "stdout"
        }
      ]
    },
    {
      "cell_type": "code",
      "metadata": {
        "colab": {
          "base_uri": "https://localhost:8080/"
        },
        "id": "3UPH7bfZHxBq",
        "outputId": "8e70a40a-1f13-48cb-811d-f83b0f7063f2"
      },
      "source": [
        "genre_name=book_soup.find_all('p',class_='genre-links hidden-phone')\n",
        "\n",
        "column_genre=[]\n",
        "for i in genre_name:\n",
        "    column_genre.append(i.text.replace('\\n',''))\n",
        "column_genre=column_genre[:5]  \n",
        "print(column_genre)"
      ],
      "execution_count": 22,
      "outputs": [
        {
          "output_type": "stream",
          "text": [
            "['Fiction / Popular Fiction', 'YA / YA Fiction', 'Nonfiction / Biography / Animals', 'Fiction / Family Drama', 'Romance / Contemporary Romance']\n"
          ],
          "name": "stdout"
        }
      ]
    },
    {
      "cell_type": "code",
      "metadata": {
        "colab": {
          "base_uri": "https://localhost:8080/"
        },
        "id": "hfvCXAlSSdDh",
        "outputId": "77fc95bd-1671-486d-9d0b-7289b1aacb85"
      },
      "source": [
        "book_review=book_soup.find_all('div',class_='flex-article-content')\n",
        "\n",
        "\n",
        "column_review=[]\n",
        "for i in book_review:\n",
        "    column_review.append(i.text.split('\\n'))\n",
        "column_review=column_review[:5]  \n",
        "\n",
        "\n",
        "book_review=[]\n",
        "for l in column_review:\n",
        "  book_review.append(l[13].strip())\n",
        "book_review=book_review[0:2]\n",
        "\n",
        "\n",
        "book_reviews=[]\n",
        "for l in column_review:\n",
        "  book_reviews.append(l[15].strip())\n",
        "book_reviews=book_reviews[2:4]\n",
        "\n",
        "\n",
        "book_review1=[]\n",
        "for l in column_review:\n",
        "  book_review1.append(l[13].strip())\n",
        "book_review1=book_review1[4:5]\n",
        "\n",
        "book_review.extend(book_reviews)\n",
        "book_review.extend(book_review1)\n",
        "\n"
      ],
      "execution_count": null,
      "outputs": [
        {
          "output_type": "execute_result",
          "data": {
            "text/plain": [
              "['',\n",
              " 'Nghi Vo perfectly balances the new and the familiar in her magical adaptation of The Great Gatsby.',\n",
              " 'Read the Review',\n",
              " '',\n",
              " '']"
            ]
          },
          "metadata": {
            "tags": []
          },
          "execution_count": 106
        }
      ]
    },
    {
      "cell_type": "code",
      "metadata": {
        "colab": {
          "base_uri": "https://localhost:8080/"
        },
        "id": "qJ05Bn05xn23",
        "outputId": "0a04b0f3-a51c-4bdc-cf6b-ea5b4e843b46"
      },
      "source": [
        "book_review=book_soup.find_all('div',class_='flex-article-content')\n",
        "\n",
        "\n",
        "column_review=[]\n",
        "for i in book_review:\n",
        "    column_review.append(i.text.split('\\n'))\n",
        "column_review=column_review[:5] \n",
        "\n",
        "book_review=[]\n",
        "for l in column_review:\n",
        "  book_review.append(l[13].strip())\n",
        "book_review=book_review[0:2]\n",
        "\n",
        "book_reviews=[]\n",
        "for l in column_review:\n",
        "  book_reviews.append(l[15].strip())\n",
        "book_reviews=book_reviews[2:3]\n",
        "\n",
        "book_review1=[]\n",
        "for l in column_review:\n",
        "  book_review1.append(l[13].strip())\n",
        "book_review1=book_review1[3:5]\n",
        "\n",
        "book_review.extend(book_reviews)\n",
        "book_review.extend(book_review1)\n",
        "\n",
        "book_review"
      ],
      "execution_count": 46,
      "outputs": [
        {
          "output_type": "execute_result",
          "data": {
            "text/plain": [
              "['Even in the face of death’s inevitability, friendship can be found, forgiveness can flourish and fun can ease fear.',\n",
              " \"Though Quinn dutifully plays the harp for her family's wedding-planning business, Borrowed + Blue, she doesn't believe in romance anymore, especially not the kind that starts with grand gestures and always ends in heartbreak.\",\n",
              " 'This is a feel-good story in every way, and Elizabeth Letts keeps the momentum lively, sprinkling in interesting historical tidbits that enrich the drama.',\n",
              " 'Killing off the main character just a few pages into a book is somewhat unorthodox, but it’s just the first of many interesting choices Elin Hilderbrand makes.',\n",
              " 'In Beth O’Leary’s The Road Trip, the path to hell (and happy ever after) is paved with exes and their besties.']"
            ]
          },
          "metadata": {
            "tags": []
          },
          "execution_count": 46
        }
      ]
    },
    {
      "cell_type": "code",
      "metadata": {
        "colab": {
          "base_uri": "https://localhost:8080/",
          "height": 198
        },
        "id": "YgeuXFIRwBnK",
        "outputId": "4b7f9cfd-dbbf-4924-cdca-d664c4108616"
      },
      "source": [
        "import pandas as pd\n",
        "BookDetails=pd.DataFrame({})\n",
        "BookDetails['Names']=column_book\n",
        "BookDetails['AuthorName']=column_author\n",
        "BookDetails['Genre']=column_genre\n",
        "BookDetails['BookReview']=book_review\n",
        "\n",
        "BookDetails"
      ],
      "execution_count": 47,
      "outputs": [
        {
          "output_type": "execute_result",
          "data": {
            "text/html": [
              "<div>\n",
              "<style scoped>\n",
              "    .dataframe tbody tr th:only-of-type {\n",
              "        vertical-align: middle;\n",
              "    }\n",
              "\n",
              "    .dataframe tbody tr th {\n",
              "        vertical-align: top;\n",
              "    }\n",
              "\n",
              "    .dataframe thead th {\n",
              "        text-align: right;\n",
              "    }\n",
              "</style>\n",
              "<table border=\"1\" class=\"dataframe\">\n",
              "  <thead>\n",
              "    <tr style=\"text-align: right;\">\n",
              "      <th></th>\n",
              "      <th>Names</th>\n",
              "      <th>AuthorName</th>\n",
              "      <th>Genre</th>\n",
              "      <th>BookReview</th>\n",
              "    </tr>\n",
              "  </thead>\n",
              "  <tbody>\n",
              "    <tr>\n",
              "      <th>0</th>\n",
              "      <td>★ The One Hundred Years of Lenni and Margot</td>\n",
              "      <td>Marianne Cronin</td>\n",
              "      <td>Fiction / Popular Fiction</td>\n",
              "      <td>Even in the face of death’s inevitability, fri...</td>\n",
              "    </tr>\n",
              "    <tr>\n",
              "      <th>1</th>\n",
              "      <td>We Can’t Keep Meeting Like This</td>\n",
              "      <td>Rachel Lynn Solomon</td>\n",
              "      <td>YA / YA Fiction</td>\n",
              "      <td>Though Quinn dutifully plays the harp for her ...</td>\n",
              "    </tr>\n",
              "    <tr>\n",
              "      <th>2</th>\n",
              "      <td>★ The Ride of Her Life</td>\n",
              "      <td>Elizabeth Letts</td>\n",
              "      <td>Nonfiction / Biography / Animals</td>\n",
              "      <td>This is a feel-good story in every way, and El...</td>\n",
              "    </tr>\n",
              "    <tr>\n",
              "      <th>3</th>\n",
              "      <td>★ Golden Girl</td>\n",
              "      <td>Elin Hilderbrand</td>\n",
              "      <td>Fiction / Family Drama</td>\n",
              "      <td>Killing off the main character just a few page...</td>\n",
              "    </tr>\n",
              "    <tr>\n",
              "      <th>4</th>\n",
              "      <td>The Road Trip</td>\n",
              "      <td>Beth O'Leary</td>\n",
              "      <td>Romance / Contemporary Romance</td>\n",
              "      <td>In Beth O’Leary’s The Road Trip, the path to h...</td>\n",
              "    </tr>\n",
              "  </tbody>\n",
              "</table>\n",
              "</div>"
            ],
            "text/plain": [
              "                                         Names  ...                                         BookReview\n",
              "0  ★ The One Hundred Years of Lenni and Margot  ...  Even in the face of death’s inevitability, fri...\n",
              "1              We Can’t Keep Meeting Like This  ...  Though Quinn dutifully plays the harp for her ...\n",
              "2                       ★ The Ride of Her Life  ...  This is a feel-good story in every way, and El...\n",
              "3                                ★ Golden Girl  ...  Killing off the main character just a few page...\n",
              "4                                The Road Trip  ...  In Beth O’Leary’s The Road Trip, the path to h...\n",
              "\n",
              "[5 rows x 4 columns]"
            ]
          },
          "metadata": {
            "tags": []
          },
          "execution_count": 47
        }
      ]
    },
    {
      "cell_type": "code",
      "metadata": {
        "id": "s7RlI3YEwBqi"
      },
      "source": [
        ""
      ],
      "execution_count": null,
      "outputs": []
    },
    {
      "cell_type": "markdown",
      "metadata": {
        "id": "F6FIeN8ozPey"
      },
      "source": [
        "## **5. Write a python program to scrape cricket rankings from ‘www.icc-cricket.com’. You have to scrape: i) Top 10 ODI teams in men’s cricket along with the records for matches, points and rating.**"
      ]
    },
    {
      "cell_type": "code",
      "metadata": {
        "colab": {
          "base_uri": "https://localhost:8080/"
        },
        "id": "R650lE11OBAB",
        "outputId": "8d8235f6-7e73-4032-ee02-c13182de608b"
      },
      "source": [
        "icc_page=requests.get('https://www.icc-cricket.com/rankings/mens/team-rankings/odi')\n",
        "print(icc_page)\n",
        "\n",
        "icc_soup=BeautifulSoup(icc_page.content)"
      ],
      "execution_count": 49,
      "outputs": [
        {
          "output_type": "stream",
          "text": [
            "<Response [200]>\n"
          ],
          "name": "stdout"
        }
      ]
    },
    {
      "cell_type": "code",
      "metadata": {
        "colab": {
          "base_uri": "https://localhost:8080/"
        },
        "id": "5UoyJPIFOBAF",
        "outputId": "7e481195-edd5-4781-eb4a-427a455d5cc9"
      },
      "source": [
        "team_name=icc_soup.find_all('span',class_='u-hide-phablet')\n",
        "team_name[0:10]\n",
        "\n",
        "column_team=[]\n",
        "for i in team_name:\n",
        "    column_team.append(i.text.strip('[]'))\n",
        "column_team=column_team[:10]  \n",
        "print(column_team)"
      ],
      "execution_count": 52,
      "outputs": [
        {
          "output_type": "stream",
          "text": [
            "['New Zealand', 'Australia', 'India', 'England', 'South Africa', 'Pakistan', 'Bangladesh', 'West Indies', 'Sri Lanka', 'Afghanistan']\n"
          ],
          "name": "stdout"
        }
      ]
    },
    {
      "cell_type": "code",
      "metadata": {
        "colab": {
          "base_uri": "https://localhost:8080/"
        },
        "id": "D1unF4KGPW3-",
        "outputId": "5e89679c-21a4-4c37-a8cd-b68e3ffed94f"
      },
      "source": [
        "team_matches=icc_soup.find_all('td',class_='rankings-block__banner--matches')\n",
        "\n",
        "team_match=icc_soup.find_all('td',class_='table-body__cell u-center-text')\n",
        "\n",
        "column_matches=[]\n",
        "for i in team_matches:\n",
        "    column_matches.append(i.text.strip())\n",
        "\n",
        "for i in range(0,len(team_match),2):\n",
        "    column_matches.append(team_match[i].text.strip())\n",
        "column_matches=column_matches[0:10]\n",
        "column_matches"
      ],
      "execution_count": 53,
      "outputs": [
        {
          "output_type": "execute_result",
          "data": {
            "text/plain": [
              "['17', '25', '29', '27', '20', '24', '27', '27', '24', '17']"
            ]
          },
          "metadata": {
            "tags": []
          },
          "execution_count": 53
        }
      ]
    },
    {
      "cell_type": "code",
      "metadata": {
        "colab": {
          "base_uri": "https://localhost:8080/"
        },
        "id": "YBowOJHJ9t70",
        "outputId": "38946961-fc81-447a-a473-d9dcbda77244"
      },
      "source": [
        "team_points=icc_soup.find_all('td',class_='rankings-block__banner--points')\n",
        "\n",
        "team_match=icc_soup.find_all('td',class_='table-body__cell u-center-text')\n",
        "\n",
        "column_points=[]\n",
        "for i in team_points:\n",
        "    column_points.append(i.text.strip())\n",
        "column_points\n",
        "\n",
        "for i in range(1,len(team_match),2):\n",
        "    column_points.append(team_match[i].text.strip())\n",
        "column_points=column_points[0:10]\n",
        "print(column_points)\n"
      ],
      "execution_count": 56,
      "outputs": [
        {
          "output_type": "stream",
          "text": [
            "['2,054', '2,945', '3,344', '3,100', '2,137', '2,323', '2,438', '2,222', '1,876', '1,054']\n"
          ],
          "name": "stdout"
        }
      ]
    },
    {
      "cell_type": "code",
      "metadata": {
        "colab": {
          "base_uri": "https://localhost:8080/"
        },
        "id": "Ng04JtuyBgLM",
        "outputId": "da92bff5-928d-49bc-efe0-4a377ccfc02c"
      },
      "source": [
        "team_rating=icc_soup.find_all('td',class_='rankings-block__banner--rating u-text-right')\n",
        "\n",
        "column_rating=[]\n",
        "for i in team_rating:\n",
        "    column_rating.append(i.text.strip())\n",
        "\n",
        "team_rating=icc_soup.find_all('td',class_='table-body__cell u-text-right rating')\n",
        "\n",
        "for i in team_rating:\n",
        "    column_rating.append(i.text.strip())\n",
        "column_rating=column_rating[0:10]\n",
        "column_rating\n"
      ],
      "execution_count": 57,
      "outputs": [
        {
          "output_type": "execute_result",
          "data": {
            "text/plain": [
              "['121', '118', '115', '115', '107', '97', '90', '82', '78', '62']"
            ]
          },
          "metadata": {
            "tags": []
          },
          "execution_count": 57
        }
      ]
    },
    {
      "cell_type": "code",
      "metadata": {
        "colab": {
          "base_uri": "https://localhost:8080/",
          "height": 348
        },
        "id": "nNQXIKFBCZM0",
        "outputId": "6882d922-6fca-480d-936e-5621ff0ea984"
      },
      "source": [
        "import pandas as pd\n",
        "MenTeam10=pd.DataFrame({})\n",
        "MenTeam10['Team']=column_team\n",
        "MenTeam10['Matches']=column_matches\n",
        "MenTeam10['Points']=column_points\n",
        "MenTeam10['Ratings']=column_rating\n",
        "\n",
        "MenTeam10"
      ],
      "execution_count": 58,
      "outputs": [
        {
          "output_type": "execute_result",
          "data": {
            "text/html": [
              "<div>\n",
              "<style scoped>\n",
              "    .dataframe tbody tr th:only-of-type {\n",
              "        vertical-align: middle;\n",
              "    }\n",
              "\n",
              "    .dataframe tbody tr th {\n",
              "        vertical-align: top;\n",
              "    }\n",
              "\n",
              "    .dataframe thead th {\n",
              "        text-align: right;\n",
              "    }\n",
              "</style>\n",
              "<table border=\"1\" class=\"dataframe\">\n",
              "  <thead>\n",
              "    <tr style=\"text-align: right;\">\n",
              "      <th></th>\n",
              "      <th>Team</th>\n",
              "      <th>Matches</th>\n",
              "      <th>Points</th>\n",
              "      <th>Ratings</th>\n",
              "    </tr>\n",
              "  </thead>\n",
              "  <tbody>\n",
              "    <tr>\n",
              "      <th>0</th>\n",
              "      <td>New Zealand</td>\n",
              "      <td>17</td>\n",
              "      <td>2,054</td>\n",
              "      <td>121</td>\n",
              "    </tr>\n",
              "    <tr>\n",
              "      <th>1</th>\n",
              "      <td>Australia</td>\n",
              "      <td>25</td>\n",
              "      <td>2,945</td>\n",
              "      <td>118</td>\n",
              "    </tr>\n",
              "    <tr>\n",
              "      <th>2</th>\n",
              "      <td>India</td>\n",
              "      <td>29</td>\n",
              "      <td>3,344</td>\n",
              "      <td>115</td>\n",
              "    </tr>\n",
              "    <tr>\n",
              "      <th>3</th>\n",
              "      <td>England</td>\n",
              "      <td>27</td>\n",
              "      <td>3,100</td>\n",
              "      <td>115</td>\n",
              "    </tr>\n",
              "    <tr>\n",
              "      <th>4</th>\n",
              "      <td>South Africa</td>\n",
              "      <td>20</td>\n",
              "      <td>2,137</td>\n",
              "      <td>107</td>\n",
              "    </tr>\n",
              "    <tr>\n",
              "      <th>5</th>\n",
              "      <td>Pakistan</td>\n",
              "      <td>24</td>\n",
              "      <td>2,323</td>\n",
              "      <td>97</td>\n",
              "    </tr>\n",
              "    <tr>\n",
              "      <th>6</th>\n",
              "      <td>Bangladesh</td>\n",
              "      <td>27</td>\n",
              "      <td>2,438</td>\n",
              "      <td>90</td>\n",
              "    </tr>\n",
              "    <tr>\n",
              "      <th>7</th>\n",
              "      <td>West Indies</td>\n",
              "      <td>27</td>\n",
              "      <td>2,222</td>\n",
              "      <td>82</td>\n",
              "    </tr>\n",
              "    <tr>\n",
              "      <th>8</th>\n",
              "      <td>Sri Lanka</td>\n",
              "      <td>24</td>\n",
              "      <td>1,876</td>\n",
              "      <td>78</td>\n",
              "    </tr>\n",
              "    <tr>\n",
              "      <th>9</th>\n",
              "      <td>Afghanistan</td>\n",
              "      <td>17</td>\n",
              "      <td>1,054</td>\n",
              "      <td>62</td>\n",
              "    </tr>\n",
              "  </tbody>\n",
              "</table>\n",
              "</div>"
            ],
            "text/plain": [
              "           Team Matches Points Ratings\n",
              "0   New Zealand      17  2,054     121\n",
              "1     Australia      25  2,945     118\n",
              "2         India      29  3,344     115\n",
              "3       England      27  3,100     115\n",
              "4  South Africa      20  2,137     107\n",
              "5      Pakistan      24  2,323      97\n",
              "6    Bangladesh      27  2,438      90\n",
              "7   West Indies      27  2,222      82\n",
              "8     Sri Lanka      24  1,876      78\n",
              "9   Afghanistan      17  1,054      62"
            ]
          },
          "metadata": {
            "tags": []
          },
          "execution_count": 58
        }
      ]
    },
    {
      "cell_type": "code",
      "metadata": {
        "id": "PTR6n-P7D7Bg"
      },
      "source": [
        ""
      ],
      "execution_count": null,
      "outputs": []
    },
    {
      "cell_type": "markdown",
      "metadata": {
        "id": "3S114Fx01chr"
      },
      "source": [
        "## **ii) Top 10 ODI Batsmen in men along with the records of their team and rating.** "
      ]
    },
    {
      "cell_type": "code",
      "metadata": {
        "colab": {
          "base_uri": "https://localhost:8080/"
        },
        "id": "DYSmxqUBD7KC",
        "outputId": "eb83f7be-5ace-4e40-8d4c-6c6ff4341024"
      },
      "source": [
        "icc_page=requests.get('https://www.icc-cricket.com/rankings/mens/player-rankings/odi/batting')\n",
        "print(icc_page)\n",
        "\n",
        "icc_soup=BeautifulSoup(icc_page.content)"
      ],
      "execution_count": 59,
      "outputs": [
        {
          "output_type": "stream",
          "text": [
            "<Response [200]>\n"
          ],
          "name": "stdout"
        }
      ]
    },
    {
      "cell_type": "code",
      "metadata": {
        "colab": {
          "base_uri": "https://localhost:8080/"
        },
        "id": "uo1UpKJhEw0_",
        "outputId": "539dd037-9e17-4259-b145-dd290580aaad"
      },
      "source": [
        "player_name=icc_soup.find_all('div',class_='rankings-block__banner--name-large')\n",
        "\n",
        "column_name=[]\n",
        "for i in player_name:\n",
        "    column_name.append(i.text.strip())\n",
        "\n",
        "player_name=icc_soup.find_all('td',class_='table-body__cell rankings-table__name name')\n",
        "\n",
        "for i in player_name:\n",
        "    column_name.append(i.text.strip())\n",
        "column_name=column_name[0:10]\n",
        "print(column_name)"
      ],
      "execution_count": 62,
      "outputs": [
        {
          "output_type": "stream",
          "text": [
            "['Babar Azam', 'Virat Kohli', 'Rohit Sharma', 'Ross Taylor', 'Aaron Finch', 'Jonny Bairstow', 'Fakhar Zaman', 'Francois du Plessis', 'David Warner', 'Shai Hope']\n"
          ],
          "name": "stdout"
        }
      ]
    },
    {
      "cell_type": "code",
      "metadata": {
        "colab": {
          "base_uri": "https://localhost:8080/"
        },
        "id": "IGZRqwefF5ZQ",
        "outputId": "a2435272-253e-4789-f72c-0328a5c332ae"
      },
      "source": [
        "player_country=icc_soup.find_all('div',class_='rankings-block__banner--nationality')\n",
        "\n",
        "column_country=[]\n",
        "for i in player_country:\n",
        "    column_country.append(i.text.strip())\n",
        "\n",
        "player_country=icc_soup.find_all('td',class_='table-body__cell nationality-logo rankings-table__team')\n",
        "\n",
        "for i in player_country:\n",
        "    column_country.append(i.text.strip())\n",
        "column_country=column_country[0:10]\n",
        "print(column_country)"
      ],
      "execution_count": 63,
      "outputs": [
        {
          "output_type": "stream",
          "text": [
            "['PAK', 'IND', 'IND', 'NZ', 'AUS', 'ENG', 'PAK', 'SA', 'AUS', 'WI']\n"
          ],
          "name": "stdout"
        }
      ]
    },
    {
      "cell_type": "code",
      "metadata": {
        "colab": {
          "base_uri": "https://localhost:8080/"
        },
        "id": "YDBz_f0veRTR",
        "outputId": "fcf8fde1-1abc-4dcf-d564-b466815ee530"
      },
      "source": [
        "player_rating=icc_soup.find_all('div',class_='rankings-block__banner--rating')\n",
        "\n",
        "column_rating=[]\n",
        "for i in player_rating:\n",
        "    column_rating.append(i.text.strip())\n",
        "\n",
        "player_rating=icc_soup.find_all('td',class_='table-body__cell rating')\n",
        "\n",
        "for i in player_rating:\n",
        "    column_rating.append(i.text.strip())\n",
        "column_rating=column_rating[0:10]\n",
        "print(column_rating)"
      ],
      "execution_count": 64,
      "outputs": [
        {
          "output_type": "stream",
          "text": [
            "['865', '857', '825', '801', '791', '785', '778', '778', '773', '773']\n"
          ],
          "name": "stdout"
        }
      ]
    },
    {
      "cell_type": "code",
      "metadata": {
        "colab": {
          "base_uri": "https://localhost:8080/",
          "height": 348
        },
        "id": "kb2VLYMTfrvJ",
        "outputId": "c8db67f8-2c3b-4ffb-ebce-e275f7a0c096"
      },
      "source": [
        "import pandas as pd\n",
        "MenBatsman10=pd.DataFrame({})\n",
        "MenBatsman10['Names']=column_name\n",
        "MenBatsman10['Team']=column_country\n",
        "MenBatsman10['Rating']=column_rating\n",
        "\n",
        "MenBatsman10"
      ],
      "execution_count": 65,
      "outputs": [
        {
          "output_type": "execute_result",
          "data": {
            "text/html": [
              "<div>\n",
              "<style scoped>\n",
              "    .dataframe tbody tr th:only-of-type {\n",
              "        vertical-align: middle;\n",
              "    }\n",
              "\n",
              "    .dataframe tbody tr th {\n",
              "        vertical-align: top;\n",
              "    }\n",
              "\n",
              "    .dataframe thead th {\n",
              "        text-align: right;\n",
              "    }\n",
              "</style>\n",
              "<table border=\"1\" class=\"dataframe\">\n",
              "  <thead>\n",
              "    <tr style=\"text-align: right;\">\n",
              "      <th></th>\n",
              "      <th>Names</th>\n",
              "      <th>Team</th>\n",
              "      <th>Rating</th>\n",
              "    </tr>\n",
              "  </thead>\n",
              "  <tbody>\n",
              "    <tr>\n",
              "      <th>0</th>\n",
              "      <td>Babar Azam</td>\n",
              "      <td>PAK</td>\n",
              "      <td>865</td>\n",
              "    </tr>\n",
              "    <tr>\n",
              "      <th>1</th>\n",
              "      <td>Virat Kohli</td>\n",
              "      <td>IND</td>\n",
              "      <td>857</td>\n",
              "    </tr>\n",
              "    <tr>\n",
              "      <th>2</th>\n",
              "      <td>Rohit Sharma</td>\n",
              "      <td>IND</td>\n",
              "      <td>825</td>\n",
              "    </tr>\n",
              "    <tr>\n",
              "      <th>3</th>\n",
              "      <td>Ross Taylor</td>\n",
              "      <td>NZ</td>\n",
              "      <td>801</td>\n",
              "    </tr>\n",
              "    <tr>\n",
              "      <th>4</th>\n",
              "      <td>Aaron Finch</td>\n",
              "      <td>AUS</td>\n",
              "      <td>791</td>\n",
              "    </tr>\n",
              "    <tr>\n",
              "      <th>5</th>\n",
              "      <td>Jonny Bairstow</td>\n",
              "      <td>ENG</td>\n",
              "      <td>785</td>\n",
              "    </tr>\n",
              "    <tr>\n",
              "      <th>6</th>\n",
              "      <td>Fakhar Zaman</td>\n",
              "      <td>PAK</td>\n",
              "      <td>778</td>\n",
              "    </tr>\n",
              "    <tr>\n",
              "      <th>7</th>\n",
              "      <td>Francois du Plessis</td>\n",
              "      <td>SA</td>\n",
              "      <td>778</td>\n",
              "    </tr>\n",
              "    <tr>\n",
              "      <th>8</th>\n",
              "      <td>David Warner</td>\n",
              "      <td>AUS</td>\n",
              "      <td>773</td>\n",
              "    </tr>\n",
              "    <tr>\n",
              "      <th>9</th>\n",
              "      <td>Shai Hope</td>\n",
              "      <td>WI</td>\n",
              "      <td>773</td>\n",
              "    </tr>\n",
              "  </tbody>\n",
              "</table>\n",
              "</div>"
            ],
            "text/plain": [
              "                 Names Team Rating\n",
              "0           Babar Azam  PAK    865\n",
              "1          Virat Kohli  IND    857\n",
              "2         Rohit Sharma  IND    825\n",
              "3          Ross Taylor   NZ    801\n",
              "4          Aaron Finch  AUS    791\n",
              "5       Jonny Bairstow  ENG    785\n",
              "6         Fakhar Zaman  PAK    778\n",
              "7  Francois du Plessis   SA    778\n",
              "8         David Warner  AUS    773\n",
              "9            Shai Hope   WI    773"
            ]
          },
          "metadata": {
            "tags": []
          },
          "execution_count": 65
        }
      ]
    },
    {
      "cell_type": "code",
      "metadata": {
        "id": "J15xZj0GgxQa"
      },
      "source": [
        ""
      ],
      "execution_count": null,
      "outputs": []
    },
    {
      "cell_type": "markdown",
      "metadata": {
        "id": "xhf2TOcS4z4a"
      },
      "source": [
        "## **iii) Top 10 ODI bowlers along with the records of their team and rating.**\n"
      ]
    },
    {
      "cell_type": "code",
      "metadata": {
        "colab": {
          "base_uri": "https://localhost:8080/"
        },
        "id": "ulGo8FligtfN",
        "outputId": "e36224ce-d1b6-46a7-e06b-9fcdb1939fd3"
      },
      "source": [
        "icc_page=requests.get('https://www.icc-cricket.com/rankings/mens/player-rankings/odi/bowling')\n",
        "print(icc_page)\n",
        "\n",
        "icc_soup=BeautifulSoup(icc_page.content)\n"
      ],
      "execution_count": 71,
      "outputs": [
        {
          "output_type": "stream",
          "text": [
            "<Response [200]>\n"
          ],
          "name": "stdout"
        }
      ]
    },
    {
      "cell_type": "code",
      "metadata": {
        "colab": {
          "base_uri": "https://localhost:8080/"
        },
        "id": "Dl9eI4L8gtfP",
        "outputId": "f0a288d5-0210-4a08-f180-f1540e7b373b"
      },
      "source": [
        "player_name=icc_soup.find_all('div',class_='rankings-block__banner--name-large')\n",
        "\n",
        "column_name=[]\n",
        "\n",
        "for i in player_name:\n",
        "    column_name.append(i.text.strip())\n",
        "\n",
        "player_name=icc_soup.find_all('td',class_='table-body__cell rankings-table__name name')\n",
        "\n",
        "for i in player_name:\n",
        "    column_name.append(i.text.strip())\n",
        "column_name=column_name[0:10]\n",
        "print(column_name)"
      ],
      "execution_count": 73,
      "outputs": [
        {
          "output_type": "stream",
          "text": [
            "['Trent Boult', 'Mehedi Hasan', 'Mujeeb Ur Rahman', 'Matt Henry', 'Jasprit Bumrah', 'Kagiso Rabada', 'Chris Woakes', 'Josh Hazlewood', 'Pat Cummins', 'Mustafizur Rahman']\n"
          ],
          "name": "stdout"
        }
      ]
    },
    {
      "cell_type": "code",
      "metadata": {
        "colab": {
          "base_uri": "https://localhost:8080/"
        },
        "id": "I2kxh08ngtfR",
        "outputId": "dbc5386a-bb88-4a98-b372-5625f4c1235c"
      },
      "source": [
        "player_country=icc_soup.find_all('div',class_='rankings-block__banner--nationality')\n",
        "\n",
        "column_country=[]\n",
        "for i in player_country:\n",
        "    column_country.append(i.text.strip().replace('\\n',''))\n",
        "\n",
        "\n",
        "player_country=icc_soup.find_all('td',class_='table-body__cell nationality-logo rankings-table__team')\n",
        "\n",
        "for i in player_country:\n",
        "    column_country.append(i.text.strip())\n",
        "column_country=column_country[0:10]\n",
        "print(column_country)"
      ],
      "execution_count": 86,
      "outputs": [
        {
          "output_type": "stream",
          "text": [
            "['NZ', 'BAN', 'AFG', 'NZ', 'IND', 'SA', 'ENG', 'AUS', 'AUS', 'BAN']\n"
          ],
          "name": "stdout"
        }
      ]
    },
    {
      "cell_type": "code",
      "metadata": {
        "colab": {
          "base_uri": "https://localhost:8080/"
        },
        "id": "1IWZ-YKRgtfS",
        "outputId": "66d30b3b-57c7-4377-e512-b20b300aceb5"
      },
      "source": [
        "player_rating=icc_soup.find_all('div',class_='rankings-block__banner--rating')\n",
        "\n",
        "column_rating=[]\n",
        "for i in player_rating:\n",
        "    column_rating.append(i.text.strip())\n",
        "column_rating\n",
        "\n",
        "player_rating=icc_soup.find_all('td',class_='table-body__cell rating')\n",
        "\n",
        "for i in player_rating:\n",
        "    column_rating.append(i.text.strip())\n",
        "column_rating=column_rating[0:10]\n",
        "column_rating"
      ],
      "execution_count": 87,
      "outputs": [
        {
          "output_type": "execute_result",
          "data": {
            "text/plain": [
              "['737', '713', '708', '691', '690', '666', '665', '660', '646', '645']"
            ]
          },
          "metadata": {
            "tags": []
          },
          "execution_count": 87
        }
      ]
    },
    {
      "cell_type": "code",
      "metadata": {
        "colab": {
          "base_uri": "https://localhost:8080/",
          "height": 348
        },
        "id": "fd-6jiipgtfU",
        "outputId": "b5fa3c64-df0a-40e8-f125-b096f5e59578"
      },
      "source": [
        "import pandas as pd\n",
        "MenBowler10=pd.DataFrame({})\n",
        "MenBowler10['Names']=column_name\n",
        "MenBowler10['Team']=column_country\n",
        "MenBowler10['Rating']=column_rating\n",
        "\n",
        "MenBowler10"
      ],
      "execution_count": 88,
      "outputs": [
        {
          "output_type": "execute_result",
          "data": {
            "text/html": [
              "<div>\n",
              "<style scoped>\n",
              "    .dataframe tbody tr th:only-of-type {\n",
              "        vertical-align: middle;\n",
              "    }\n",
              "\n",
              "    .dataframe tbody tr th {\n",
              "        vertical-align: top;\n",
              "    }\n",
              "\n",
              "    .dataframe thead th {\n",
              "        text-align: right;\n",
              "    }\n",
              "</style>\n",
              "<table border=\"1\" class=\"dataframe\">\n",
              "  <thead>\n",
              "    <tr style=\"text-align: right;\">\n",
              "      <th></th>\n",
              "      <th>Names</th>\n",
              "      <th>Team</th>\n",
              "      <th>Rating</th>\n",
              "    </tr>\n",
              "  </thead>\n",
              "  <tbody>\n",
              "    <tr>\n",
              "      <th>0</th>\n",
              "      <td>Trent Boult</td>\n",
              "      <td>NZ</td>\n",
              "      <td>737</td>\n",
              "    </tr>\n",
              "    <tr>\n",
              "      <th>1</th>\n",
              "      <td>Mehedi Hasan</td>\n",
              "      <td>BAN</td>\n",
              "      <td>713</td>\n",
              "    </tr>\n",
              "    <tr>\n",
              "      <th>2</th>\n",
              "      <td>Mujeeb Ur Rahman</td>\n",
              "      <td>AFG</td>\n",
              "      <td>708</td>\n",
              "    </tr>\n",
              "    <tr>\n",
              "      <th>3</th>\n",
              "      <td>Matt Henry</td>\n",
              "      <td>NZ</td>\n",
              "      <td>691</td>\n",
              "    </tr>\n",
              "    <tr>\n",
              "      <th>4</th>\n",
              "      <td>Jasprit Bumrah</td>\n",
              "      <td>IND</td>\n",
              "      <td>690</td>\n",
              "    </tr>\n",
              "    <tr>\n",
              "      <th>5</th>\n",
              "      <td>Kagiso Rabada</td>\n",
              "      <td>SA</td>\n",
              "      <td>666</td>\n",
              "    </tr>\n",
              "    <tr>\n",
              "      <th>6</th>\n",
              "      <td>Chris Woakes</td>\n",
              "      <td>ENG</td>\n",
              "      <td>665</td>\n",
              "    </tr>\n",
              "    <tr>\n",
              "      <th>7</th>\n",
              "      <td>Josh Hazlewood</td>\n",
              "      <td>AUS</td>\n",
              "      <td>660</td>\n",
              "    </tr>\n",
              "    <tr>\n",
              "      <th>8</th>\n",
              "      <td>Pat Cummins</td>\n",
              "      <td>AUS</td>\n",
              "      <td>646</td>\n",
              "    </tr>\n",
              "    <tr>\n",
              "      <th>9</th>\n",
              "      <td>Mustafizur Rahman</td>\n",
              "      <td>BAN</td>\n",
              "      <td>645</td>\n",
              "    </tr>\n",
              "  </tbody>\n",
              "</table>\n",
              "</div>"
            ],
            "text/plain": [
              "               Names Team Rating\n",
              "0        Trent Boult   NZ    737\n",
              "1       Mehedi Hasan  BAN    713\n",
              "2   Mujeeb Ur Rahman  AFG    708\n",
              "3         Matt Henry   NZ    691\n",
              "4     Jasprit Bumrah  IND    690\n",
              "5      Kagiso Rabada   SA    666\n",
              "6       Chris Woakes  ENG    665\n",
              "7     Josh Hazlewood  AUS    660\n",
              "8        Pat Cummins  AUS    646\n",
              "9  Mustafizur Rahman  BAN    645"
            ]
          },
          "metadata": {
            "tags": []
          },
          "execution_count": 88
        }
      ]
    },
    {
      "cell_type": "code",
      "metadata": {
        "id": "f1627RXCiweT"
      },
      "source": [
        ""
      ],
      "execution_count": null,
      "outputs": []
    },
    {
      "cell_type": "markdown",
      "metadata": {
        "id": "VAhljY1_8WDx"
      },
      "source": [
        "## **6. Write a python program to scrape cricket rankings from ‘www.icc-cricket.com’. You have to scrape: i) Top 10 ODI teams in women’s cricket along with the records for matches, points and rating.**"
      ]
    },
    {
      "cell_type": "code",
      "metadata": {
        "colab": {
          "base_uri": "https://localhost:8080/"
        },
        "id": "j3nT84-jjFgx",
        "outputId": "1e1bd87c-6b5a-45b3-cf66-e231854e8b43"
      },
      "source": [
        "icc_page=requests.get('https://www.icc-cricket.com/rankings/womens/team-rankings/odi')\n",
        "print(icc_page)\n",
        "\n",
        "icc_soup=BeautifulSoup(icc_page.content)"
      ],
      "execution_count": 89,
      "outputs": [
        {
          "output_type": "stream",
          "text": [
            "<Response [200]>\n"
          ],
          "name": "stdout"
        }
      ]
    },
    {
      "cell_type": "code",
      "metadata": {
        "colab": {
          "base_uri": "https://localhost:8080/"
        },
        "id": "9Iv-5ONqjFhD",
        "outputId": "91148210-5186-442b-b8ba-3f1ff9a177a3"
      },
      "source": [
        "team_name=icc_soup.find_all('span',class_='u-hide-phablet')\n",
        "\n",
        "column_team=[]\n",
        "for i in team_name:\n",
        "    column_team.append(i.text.strip('[]'))\n",
        "column_team=column_team[:10]  \n",
        "print(column_team)"
      ],
      "execution_count": 91,
      "outputs": [
        {
          "output_type": "stream",
          "text": [
            "['Australia', 'South Africa', 'England', 'India', 'New Zealand', 'West Indies', 'Pakistan', 'Bangladesh', 'Sri Lanka', 'Ireland']\n"
          ],
          "name": "stdout"
        }
      ]
    },
    {
      "cell_type": "code",
      "metadata": {
        "colab": {
          "base_uri": "https://localhost:8080/"
        },
        "id": "WY6MKmd2jFhE",
        "outputId": "6aed6a77-8fd3-4da5-de4a-103616297fd4"
      },
      "source": [
        "team_matches=icc_soup.find_all('td',class_='rankings-block__banner--matches')\n",
        "\n",
        "column_matches=[]\n",
        "for i in team_matches:\n",
        "    column_matches.append(i.text.strip())\n",
        "column_matches\n",
        "\n",
        "team_match=icc_soup.find_all('td',class_='table-body__cell u-center-text')\n",
        "\n",
        "for i in range(0,len(team_match),2):\n",
        "    column_matches.append(team_match[i].text.strip())\n",
        "column_matches=column_matches[0:10]\n",
        "print(column_matches)\n"
      ],
      "execution_count": 92,
      "outputs": [
        {
          "output_type": "stream",
          "text": [
            "['18', '24', '17', '20', '21', '12', '15', '5', '11', '2']\n"
          ],
          "name": "stdout"
        }
      ]
    },
    {
      "cell_type": "code",
      "metadata": {
        "colab": {
          "base_uri": "https://localhost:8080/"
        },
        "id": "pOqOjGBPjFhG",
        "outputId": "d1955e69-fab7-44f6-cacd-3c91d22a9f0e"
      },
      "source": [
        "team_points=icc_soup.find_all('td',class_='rankings-block__banner--points')\n",
        "team_match=icc_soup.find_all('td',class_='table-body__cell u-center-text')\n",
        "\n",
        "\n",
        "column_points=[]\n",
        "for i in team_points:\n",
        "    column_points.append(i.text.strip())\n",
        "column_points\n",
        "\n",
        "for i in range(1,len(team_match),2):\n",
        "    column_points.append(team_match[i].text.strip())\n",
        "column_points=column_points[0:10]\n",
        "print(column_points)"
      ],
      "execution_count": 93,
      "outputs": [
        {
          "output_type": "stream",
          "text": [
            "['2,955', '2,828', '1,993', '2,226', '1,947', '1,025', '1,101', '306', '519', '25']\n"
          ],
          "name": "stdout"
        }
      ]
    },
    {
      "cell_type": "code",
      "metadata": {
        "colab": {
          "base_uri": "https://localhost:8080/"
        },
        "id": "AnoXilfnjFhH",
        "outputId": "1170cda2-223e-4d9f-c405-dbc79e50941f"
      },
      "source": [
        "team_rating=icc_soup.find_all('td',class_='rankings-block__banner--rating u-text-right')\n",
        "\n",
        "column_rating=[]\n",
        "for i in team_rating:\n",
        "    column_rating.append(i.text.strip())\n",
        "\n",
        "\n",
        "team_rating=icc_soup.find_all('td',class_='table-body__cell u-text-right rating')\n",
        "\n",
        "for i in team_rating:\n",
        "    column_rating.append(i.text.strip())\n",
        "column_rating=column_rating[0:10]\n",
        "column_rating"
      ],
      "execution_count": 94,
      "outputs": [
        {
          "output_type": "execute_result",
          "data": {
            "text/plain": [
              "['164', '118', '117', '111', '93', '85', '73', '61', '47', '13']"
            ]
          },
          "metadata": {
            "tags": []
          },
          "execution_count": 94
        }
      ]
    },
    {
      "cell_type": "code",
      "metadata": {
        "colab": {
          "base_uri": "https://localhost:8080/",
          "height": 348
        },
        "id": "mxwiKHLojFhI",
        "outputId": "73ed34cc-b4ae-4cfb-9505-b5c2ad461ac2"
      },
      "source": [
        "import pandas as pd\n",
        "WomenTeam10=pd.DataFrame({})\n",
        "WomenTeam10['Team']=column_team\n",
        "WomenTeam10['Matches']=column_matches\n",
        "WomenTeam10['Points']=column_points\n",
        "WomenTeam10['Ratings']=column_rating\n",
        "\n",
        "WomenTeam10"
      ],
      "execution_count": 95,
      "outputs": [
        {
          "output_type": "execute_result",
          "data": {
            "text/html": [
              "<div>\n",
              "<style scoped>\n",
              "    .dataframe tbody tr th:only-of-type {\n",
              "        vertical-align: middle;\n",
              "    }\n",
              "\n",
              "    .dataframe tbody tr th {\n",
              "        vertical-align: top;\n",
              "    }\n",
              "\n",
              "    .dataframe thead th {\n",
              "        text-align: right;\n",
              "    }\n",
              "</style>\n",
              "<table border=\"1\" class=\"dataframe\">\n",
              "  <thead>\n",
              "    <tr style=\"text-align: right;\">\n",
              "      <th></th>\n",
              "      <th>Team</th>\n",
              "      <th>Matches</th>\n",
              "      <th>Points</th>\n",
              "      <th>Ratings</th>\n",
              "    </tr>\n",
              "  </thead>\n",
              "  <tbody>\n",
              "    <tr>\n",
              "      <th>0</th>\n",
              "      <td>Australia</td>\n",
              "      <td>18</td>\n",
              "      <td>2,955</td>\n",
              "      <td>164</td>\n",
              "    </tr>\n",
              "    <tr>\n",
              "      <th>1</th>\n",
              "      <td>South Africa</td>\n",
              "      <td>24</td>\n",
              "      <td>2,828</td>\n",
              "      <td>118</td>\n",
              "    </tr>\n",
              "    <tr>\n",
              "      <th>2</th>\n",
              "      <td>England</td>\n",
              "      <td>17</td>\n",
              "      <td>1,993</td>\n",
              "      <td>117</td>\n",
              "    </tr>\n",
              "    <tr>\n",
              "      <th>3</th>\n",
              "      <td>India</td>\n",
              "      <td>20</td>\n",
              "      <td>2,226</td>\n",
              "      <td>111</td>\n",
              "    </tr>\n",
              "    <tr>\n",
              "      <th>4</th>\n",
              "      <td>New Zealand</td>\n",
              "      <td>21</td>\n",
              "      <td>1,947</td>\n",
              "      <td>93</td>\n",
              "    </tr>\n",
              "    <tr>\n",
              "      <th>5</th>\n",
              "      <td>West Indies</td>\n",
              "      <td>12</td>\n",
              "      <td>1,025</td>\n",
              "      <td>85</td>\n",
              "    </tr>\n",
              "    <tr>\n",
              "      <th>6</th>\n",
              "      <td>Pakistan</td>\n",
              "      <td>15</td>\n",
              "      <td>1,101</td>\n",
              "      <td>73</td>\n",
              "    </tr>\n",
              "    <tr>\n",
              "      <th>7</th>\n",
              "      <td>Bangladesh</td>\n",
              "      <td>5</td>\n",
              "      <td>306</td>\n",
              "      <td>61</td>\n",
              "    </tr>\n",
              "    <tr>\n",
              "      <th>8</th>\n",
              "      <td>Sri Lanka</td>\n",
              "      <td>11</td>\n",
              "      <td>519</td>\n",
              "      <td>47</td>\n",
              "    </tr>\n",
              "    <tr>\n",
              "      <th>9</th>\n",
              "      <td>Ireland</td>\n",
              "      <td>2</td>\n",
              "      <td>25</td>\n",
              "      <td>13</td>\n",
              "    </tr>\n",
              "  </tbody>\n",
              "</table>\n",
              "</div>"
            ],
            "text/plain": [
              "           Team Matches Points Ratings\n",
              "0     Australia      18  2,955     164\n",
              "1  South Africa      24  2,828     118\n",
              "2       England      17  1,993     117\n",
              "3         India      20  2,226     111\n",
              "4   New Zealand      21  1,947      93\n",
              "5   West Indies      12  1,025      85\n",
              "6      Pakistan      15  1,101      73\n",
              "7    Bangladesh       5    306      61\n",
              "8     Sri Lanka      11    519      47\n",
              "9       Ireland       2     25      13"
            ]
          },
          "metadata": {
            "tags": []
          },
          "execution_count": 95
        }
      ]
    },
    {
      "cell_type": "code",
      "metadata": {
        "id": "WL2pwdR8kgpr"
      },
      "source": [
        ""
      ],
      "execution_count": null,
      "outputs": []
    },
    {
      "cell_type": "markdown",
      "metadata": {
        "id": "NCeVahKo9h7F"
      },
      "source": [
        "## **ii) Top 10 women’s ODI players along with the records of their team and rating.**"
      ]
    },
    {
      "cell_type": "code",
      "metadata": {
        "colab": {
          "base_uri": "https://localhost:8080/"
        },
        "id": "ZeJcNnZKkhRN",
        "outputId": "36af58f6-502c-4217-b853-e863c5e217e0"
      },
      "source": [
        "icc_page=requests.get('https://www.icc-cricket.com/rankings/womens/player-rankings/odi/batting')\n",
        "print(icc_page)\n",
        "\n",
        "icc_soup=BeautifulSoup(icc_page.content)"
      ],
      "execution_count": 96,
      "outputs": [
        {
          "output_type": "stream",
          "text": [
            "<Response [200]>\n"
          ],
          "name": "stdout"
        }
      ]
    },
    {
      "cell_type": "code",
      "metadata": {
        "colab": {
          "base_uri": "https://localhost:8080/"
        },
        "id": "2INtKoXLkhRP",
        "outputId": "4ed95fca-8962-488a-e5d0-33287856cd29"
      },
      "source": [
        "player_name=icc_soup.find_all('div',class_='rankings-block__banner--name-large')\n",
        "\n",
        "column_name=[]\n",
        "for i in player_name:\n",
        "    column_name.append(i.text.strip())\n",
        "\n",
        "player_name=icc_soup.find_all('td',class_='table-body__cell rankings-table__name name')\n",
        "\n",
        "for i in player_name:\n",
        "    column_name.append(i.text.strip())\n",
        "column_name=column_name[0:10]\n",
        "print(column_name)"
      ],
      "execution_count": 97,
      "outputs": [
        {
          "output_type": "stream",
          "text": [
            "['Tammy Beaumont', 'Lizelle Lee', 'Alyssa Healy', 'Stafanie Taylor', 'Meg Lanning', 'Amy Satterthwaite', 'Smriti Mandhana', 'Mithali Raj', 'Natalie Sciver', 'Laura Wolvaardt']\n"
          ],
          "name": "stdout"
        }
      ]
    },
    {
      "cell_type": "code",
      "metadata": {
        "colab": {
          "base_uri": "https://localhost:8080/"
        },
        "id": "27EwRaZskhRR",
        "outputId": "1e0c55f4-ecb3-4c26-8804-e7ca83a6db56"
      },
      "source": [
        "player_country=icc_soup.find_all('div',class_='rankings-block__banner--nationality')\n",
        "\n",
        "column_country=[]\n",
        "for i in player_country:\n",
        "    column_country.append(i.text.strip())\n",
        "\n",
        "player_country=icc_soup.find_all('td',class_='table-body__cell nationality-logo rankings-table__team')\n",
        "\n",
        "for i in player_country:\n",
        "    column_country.append(i.text.strip())\n",
        "column_country=column_country[0:10]\n",
        "print(column_country)"
      ],
      "execution_count": 98,
      "outputs": [
        {
          "output_type": "stream",
          "text": [
            "['ENG', 'SA', 'AUS', 'WI', 'AUS', 'NZ', 'IND', 'IND', 'ENG', 'SA']\n"
          ],
          "name": "stdout"
        }
      ]
    },
    {
      "cell_type": "code",
      "metadata": {
        "colab": {
          "base_uri": "https://localhost:8080/"
        },
        "id": "10B4ovYGkhRT",
        "outputId": "4bae8b43-714a-48e6-c4bb-8898607188f8"
      },
      "source": [
        "player_rating=icc_soup.find_all('div',class_='rankings-block__banner--rating')\n",
        "\n",
        "column_rating=[]\n",
        "for i in player_rating:\n",
        "    column_rating.append(i.text.strip())\n",
        "\n",
        "player_rating=icc_soup.find_all('td',class_='table-body__cell rating')\n",
        "\n",
        "for i in player_rating:\n",
        "    column_rating.append(i.text.strip())\n",
        "column_rating=column_rating[0:10]\n",
        "print(column_rating)"
      ],
      "execution_count": 99,
      "outputs": [
        {
          "output_type": "stream",
          "text": [
            "['765', '758', '756', '746', '723', '715', '710', '709', '685', '683']\n"
          ],
          "name": "stdout"
        }
      ]
    },
    {
      "cell_type": "code",
      "metadata": {
        "colab": {
          "base_uri": "https://localhost:8080/",
          "height": 348
        },
        "id": "T53jmiJSkhRV",
        "outputId": "775b5c54-8d44-4b21-fe9d-174a0ddee167"
      },
      "source": [
        "import pandas as pd\n",
        "WomanBatsman10=pd.DataFrame({})\n",
        "WomanBatsman10['Names']=column_name\n",
        "WomanBatsman10['Team']=column_country\n",
        "WomanBatsman10['Rating']=column_rating\n",
        "\n",
        "WomanBatsman10"
      ],
      "execution_count": 100,
      "outputs": [
        {
          "output_type": "execute_result",
          "data": {
            "text/html": [
              "<div>\n",
              "<style scoped>\n",
              "    .dataframe tbody tr th:only-of-type {\n",
              "        vertical-align: middle;\n",
              "    }\n",
              "\n",
              "    .dataframe tbody tr th {\n",
              "        vertical-align: top;\n",
              "    }\n",
              "\n",
              "    .dataframe thead th {\n",
              "        text-align: right;\n",
              "    }\n",
              "</style>\n",
              "<table border=\"1\" class=\"dataframe\">\n",
              "  <thead>\n",
              "    <tr style=\"text-align: right;\">\n",
              "      <th></th>\n",
              "      <th>Names</th>\n",
              "      <th>Team</th>\n",
              "      <th>Rating</th>\n",
              "    </tr>\n",
              "  </thead>\n",
              "  <tbody>\n",
              "    <tr>\n",
              "      <th>0</th>\n",
              "      <td>Tammy Beaumont</td>\n",
              "      <td>ENG</td>\n",
              "      <td>765</td>\n",
              "    </tr>\n",
              "    <tr>\n",
              "      <th>1</th>\n",
              "      <td>Lizelle Lee</td>\n",
              "      <td>SA</td>\n",
              "      <td>758</td>\n",
              "    </tr>\n",
              "    <tr>\n",
              "      <th>2</th>\n",
              "      <td>Alyssa Healy</td>\n",
              "      <td>AUS</td>\n",
              "      <td>756</td>\n",
              "    </tr>\n",
              "    <tr>\n",
              "      <th>3</th>\n",
              "      <td>Stafanie Taylor</td>\n",
              "      <td>WI</td>\n",
              "      <td>746</td>\n",
              "    </tr>\n",
              "    <tr>\n",
              "      <th>4</th>\n",
              "      <td>Meg Lanning</td>\n",
              "      <td>AUS</td>\n",
              "      <td>723</td>\n",
              "    </tr>\n",
              "    <tr>\n",
              "      <th>5</th>\n",
              "      <td>Amy Satterthwaite</td>\n",
              "      <td>NZ</td>\n",
              "      <td>715</td>\n",
              "    </tr>\n",
              "    <tr>\n",
              "      <th>6</th>\n",
              "      <td>Smriti Mandhana</td>\n",
              "      <td>IND</td>\n",
              "      <td>710</td>\n",
              "    </tr>\n",
              "    <tr>\n",
              "      <th>7</th>\n",
              "      <td>Mithali Raj</td>\n",
              "      <td>IND</td>\n",
              "      <td>709</td>\n",
              "    </tr>\n",
              "    <tr>\n",
              "      <th>8</th>\n",
              "      <td>Natalie Sciver</td>\n",
              "      <td>ENG</td>\n",
              "      <td>685</td>\n",
              "    </tr>\n",
              "    <tr>\n",
              "      <th>9</th>\n",
              "      <td>Laura Wolvaardt</td>\n",
              "      <td>SA</td>\n",
              "      <td>683</td>\n",
              "    </tr>\n",
              "  </tbody>\n",
              "</table>\n",
              "</div>"
            ],
            "text/plain": [
              "               Names Team Rating\n",
              "0     Tammy Beaumont  ENG    765\n",
              "1        Lizelle Lee   SA    758\n",
              "2       Alyssa Healy  AUS    756\n",
              "3    Stafanie Taylor   WI    746\n",
              "4        Meg Lanning  AUS    723\n",
              "5  Amy Satterthwaite   NZ    715\n",
              "6    Smriti Mandhana  IND    710\n",
              "7        Mithali Raj  IND    709\n",
              "8     Natalie Sciver  ENG    685\n",
              "9    Laura Wolvaardt   SA    683"
            ]
          },
          "metadata": {
            "tags": []
          },
          "execution_count": 100
        }
      ]
    },
    {
      "cell_type": "code",
      "metadata": {
        "id": "A4of-BEtmzBB"
      },
      "source": [
        ""
      ],
      "execution_count": null,
      "outputs": []
    },
    {
      "cell_type": "markdown",
      "metadata": {
        "id": "jOKPp_Y_-7VS"
      },
      "source": [
        "## **iii) Top 10 women’s ODI all-rounder along with the records of their team and rating.**"
      ]
    },
    {
      "cell_type": "code",
      "metadata": {
        "colab": {
          "base_uri": "https://localhost:8080/"
        },
        "id": "mpiAxG26oJ7y",
        "outputId": "7e572792-98d1-45ea-fbd9-81e9bfdae651"
      },
      "source": [
        "icc_page=requests.get('https://www.icc-cricket.com/rankings/womens/player-rankings/odi/all-rounder')\n",
        "print(icc_page)\n",
        "\n",
        "icc_soup=BeautifulSoup(icc_page.content)"
      ],
      "execution_count": 101,
      "outputs": [
        {
          "output_type": "stream",
          "text": [
            "<Response [200]>\n"
          ],
          "name": "stdout"
        }
      ]
    },
    {
      "cell_type": "code",
      "metadata": {
        "colab": {
          "base_uri": "https://localhost:8080/"
        },
        "id": "D34LECk9o4pc",
        "outputId": "b0966601-fb45-4951-9dad-34d332d9740e"
      },
      "source": [
        "player_name=icc_soup.find_all('div',class_='rankings-block__banner--name-large')\n",
        "\n",
        "column_name=[]\n",
        "for i in player_name:\n",
        "    column_name.append(i.text.strip())\n",
        "\n",
        "player_name=icc_soup.find_all('td',class_='table-body__cell rankings-table__name name')\n",
        "\n",
        "for i in player_name:\n",
        "    column_name.append(i.text.strip())\n",
        "column_name=column_name[0:10]\n",
        "print(column_name)"
      ],
      "execution_count": 102,
      "outputs": [
        {
          "output_type": "stream",
          "text": [
            "['Marizanne Kapp', 'Ellyse Perry', 'Stafanie Taylor', 'Natalie Sciver', 'Deepti Sharma', 'Jess Jonassen', 'Ashleigh Gardner', 'Dane van Niekerk', 'Sophie Devine', 'Amelia Kerr']\n"
          ],
          "name": "stdout"
        }
      ]
    },
    {
      "cell_type": "code",
      "metadata": {
        "colab": {
          "base_uri": "https://localhost:8080/"
        },
        "id": "0RN7eJOjpVFC",
        "outputId": "65255d3c-98da-4197-96de-0eb41aad3732"
      },
      "source": [
        "player_country=icc_soup.find_all('div',class_='rankings-block__banner--nationality')\n",
        "\n",
        "column_country=[]\n",
        "for i in player_country:\n",
        "    column_country.append(i.text.strip())\n",
        "\n",
        "player_country=icc_soup.find_all('td',class_='table-body__cell nationality-logo rankings-table__team')\n",
        "\n",
        "for i in player_country:\n",
        "    column_country.append(i.text.strip())\n",
        "column_country=column_country[0:10]\n",
        "print(column_country)"
      ],
      "execution_count": 103,
      "outputs": [
        {
          "output_type": "stream",
          "text": [
            "['SA', 'AUS', 'WI', 'ENG', 'IND', 'AUS', 'AUS', 'SA', 'NZ', 'NZ']\n"
          ],
          "name": "stdout"
        }
      ]
    },
    {
      "cell_type": "code",
      "metadata": {
        "colab": {
          "base_uri": "https://localhost:8080/"
        },
        "id": "72QUcmHKoJ8M",
        "outputId": "3fbf92b0-77a3-4a0f-fbb0-9b8295c4a06c"
      },
      "source": [
        "player_rating=icc_soup.find_all('div',class_='rankings-block__banner--rating')\n",
        "\n",
        "column_rating=[]\n",
        "for i in player_rating:\n",
        "    column_rating.append(i.text.strip())\n",
        "\n",
        "player_rating=icc_soup.find_all('td',class_='table-body__cell rating')\n",
        "\n",
        "for i in player_rating:\n",
        "    column_rating.append(i.text.strip())\n",
        "column_rating=column_rating[0:10]\n",
        "print(column_rating)"
      ],
      "execution_count": 104,
      "outputs": [
        {
          "output_type": "stream",
          "text": [
            "['418', '418', '410', '349', '343', '307', '252', '243', '242', '236']\n"
          ],
          "name": "stdout"
        }
      ]
    },
    {
      "cell_type": "code",
      "metadata": {
        "colab": {
          "base_uri": "https://localhost:8080/",
          "height": 348
        },
        "id": "07PIrOq0oJ8O",
        "outputId": "57840782-25ec-4934-d6e3-fa0db23055f9"
      },
      "source": [
        "import pandas as pd\n",
        "WomanAll10=pd.DataFrame({})\n",
        "WomanAll10['Names']=column_name\n",
        "WomanAll10['Team']=column_country\n",
        "WomanAll10['Rating']=column_rating\n",
        "\n",
        "WomanAll10"
      ],
      "execution_count": 105,
      "outputs": [
        {
          "output_type": "execute_result",
          "data": {
            "text/html": [
              "<div>\n",
              "<style scoped>\n",
              "    .dataframe tbody tr th:only-of-type {\n",
              "        vertical-align: middle;\n",
              "    }\n",
              "\n",
              "    .dataframe tbody tr th {\n",
              "        vertical-align: top;\n",
              "    }\n",
              "\n",
              "    .dataframe thead th {\n",
              "        text-align: right;\n",
              "    }\n",
              "</style>\n",
              "<table border=\"1\" class=\"dataframe\">\n",
              "  <thead>\n",
              "    <tr style=\"text-align: right;\">\n",
              "      <th></th>\n",
              "      <th>Names</th>\n",
              "      <th>Team</th>\n",
              "      <th>Rating</th>\n",
              "    </tr>\n",
              "  </thead>\n",
              "  <tbody>\n",
              "    <tr>\n",
              "      <th>0</th>\n",
              "      <td>Marizanne Kapp</td>\n",
              "      <td>SA</td>\n",
              "      <td>418</td>\n",
              "    </tr>\n",
              "    <tr>\n",
              "      <th>1</th>\n",
              "      <td>Ellyse Perry</td>\n",
              "      <td>AUS</td>\n",
              "      <td>418</td>\n",
              "    </tr>\n",
              "    <tr>\n",
              "      <th>2</th>\n",
              "      <td>Stafanie Taylor</td>\n",
              "      <td>WI</td>\n",
              "      <td>410</td>\n",
              "    </tr>\n",
              "    <tr>\n",
              "      <th>3</th>\n",
              "      <td>Natalie Sciver</td>\n",
              "      <td>ENG</td>\n",
              "      <td>349</td>\n",
              "    </tr>\n",
              "    <tr>\n",
              "      <th>4</th>\n",
              "      <td>Deepti Sharma</td>\n",
              "      <td>IND</td>\n",
              "      <td>343</td>\n",
              "    </tr>\n",
              "    <tr>\n",
              "      <th>5</th>\n",
              "      <td>Jess Jonassen</td>\n",
              "      <td>AUS</td>\n",
              "      <td>307</td>\n",
              "    </tr>\n",
              "    <tr>\n",
              "      <th>6</th>\n",
              "      <td>Ashleigh Gardner</td>\n",
              "      <td>AUS</td>\n",
              "      <td>252</td>\n",
              "    </tr>\n",
              "    <tr>\n",
              "      <th>7</th>\n",
              "      <td>Dane van Niekerk</td>\n",
              "      <td>SA</td>\n",
              "      <td>243</td>\n",
              "    </tr>\n",
              "    <tr>\n",
              "      <th>8</th>\n",
              "      <td>Sophie Devine</td>\n",
              "      <td>NZ</td>\n",
              "      <td>242</td>\n",
              "    </tr>\n",
              "    <tr>\n",
              "      <th>9</th>\n",
              "      <td>Amelia Kerr</td>\n",
              "      <td>NZ</td>\n",
              "      <td>236</td>\n",
              "    </tr>\n",
              "  </tbody>\n",
              "</table>\n",
              "</div>"
            ],
            "text/plain": [
              "              Names Team Rating\n",
              "0    Marizanne Kapp   SA    418\n",
              "1      Ellyse Perry  AUS    418\n",
              "2   Stafanie Taylor   WI    410\n",
              "3    Natalie Sciver  ENG    349\n",
              "4     Deepti Sharma  IND    343\n",
              "5     Jess Jonassen  AUS    307\n",
              "6  Ashleigh Gardner  AUS    252\n",
              "7  Dane van Niekerk   SA    243\n",
              "8     Sophie Devine   NZ    242\n",
              "9       Amelia Kerr   NZ    236"
            ]
          },
          "metadata": {
            "tags": []
          },
          "execution_count": 105
        }
      ]
    },
    {
      "cell_type": "code",
      "metadata": {
        "id": "EStekbNRqvgh"
      },
      "source": [
        ""
      ],
      "execution_count": null,
      "outputs": []
    },
    {
      "cell_type": "markdown",
      "metadata": {
        "id": "bKJ9ffstABmr"
      },
      "source": [
        "## **7. Write a python program to scrape details of all the mobile phones under Rs. 20,000 listed on Amazon.in. The scraped data should include Product Name, Price, Image URL and Average Rating.**"
      ]
    },
    {
      "cell_type": "code",
      "metadata": {
        "colab": {
          "base_uri": "https://localhost:8080/"
        },
        "id": "fwPtgkHfr_3e",
        "outputId": "1866ab8b-d457-45ff-f6f6-204cd5248e0b"
      },
      "source": [
        "amazon_page=requests.get('https://www.amazon.in/Mobile-Phone-Under-20000-Rupees/s?k=Mobile+Phone+Under+20000+Rupees')\n",
        "print(amazon_page)\n",
        "\n",
        "amazon_soup=BeautifulSoup(amazon_page.content,'html.parser')"
      ],
      "execution_count": 107,
      "outputs": [
        {
          "output_type": "stream",
          "text": [
            "<Response [200]>\n"
          ],
          "name": "stdout"
        }
      ]
    },
    {
      "cell_type": "code",
      "metadata": {
        "colab": {
          "base_uri": "https://localhost:8080/"
        },
        "id": "eCvqydpur_3x",
        "outputId": "87f194f1-f4e2-48d7-8a4b-e88c3cc55cfc"
      },
      "source": [
        "mobile_name=amazon_soup.find_all('span',class_='a-size-medium a-color-base a-text-normal')\n",
        "\n",
        "column_name=[]\n",
        "for i in mobile_name:\n",
        "    column_name.append(i.text.split('|'))\n",
        "\n",
        "column_names=[]\n",
        "for l in column_name:\n",
        "  column_names.append(l[0].strip())\n",
        "column_names"
      ],
      "execution_count": 108,
      "outputs": [
        {
          "output_type": "execute_result",
          "data": {
            "text/plain": [
              "['Redmi 9 (Sky Blue, 4GB RAM, 64GB Storage)',\n",
              " 'Redmi 9A (Nature Green, 2GB RAM, 32GB Storage)',\n",
              " 'Samsung Galaxy M31 (Ocean Blue, 6GB RAM, 128GB Storage)',\n",
              " 'Samsung Galaxy M12 (Blue,4GB RAM, 64GB Storage) 6000 mAh with 8nm Processor',\n",
              " 'Redmi 9A (Sea Blue 3GB RAM 32GB Storage)',\n",
              " 'Oppo A31 (Mystery Black, 6GB RAM, 128GB Storage) with No Cost EMI/Additional Exchange Offers',\n",
              " 'Oppo A31 (Fantasy White, 6GB RAM, 128GB Storage) with No Cost EMI/Additional Exchange Offers',\n",
              " 'Samsung Galaxy M12 (Blue,6GB RAM, 128GB Storage) 6000 mAh with 8nm Processor',\n",
              " 'Redmi Note 9 (Pebble Grey, 4GB RAM 64GB Storage) - 48MP Quad Camera & Full HD+ Display',\n",
              " 'Panasonic Eluga i7 (2GB RAM, 16GB Storage, Finger Print Sensor, 4000mAh Battery) (Black)',\n",
              " 'Vivo Y91i (Fusion Black, 2GB RAM, 32GB Storage) with No Cost EMI/Additional Exchange Offers',\n",
              " 'Samsung Galaxy M12 (Black,4GB RAM, 64GB Storage) 6000 mAh with 8nm Processor',\n",
              " 'Redmi 9A (Sea Blue 2GB RAM 32GB Storage)',\n",
              " 'Vivo Y91i (Ocean Blue, 2GB RAM, 32GB Storage) with No Cost EMI/Additional Exchange Offers',\n",
              " 'Samsung Galaxy M12 (White,4GB RAM, 64GB Storage) 6000 mAh with 8nm Processor',\n",
              " 'Redmi Note 10 (Shadow Black, 6GB RAM, 128GB Storage)']"
            ]
          },
          "metadata": {
            "tags": []
          },
          "execution_count": 108
        }
      ]
    },
    {
      "cell_type": "code",
      "metadata": {
        "colab": {
          "base_uri": "https://localhost:8080/"
        },
        "id": "-Do1Hd18pIcY",
        "outputId": "7cb9277b-e09f-41ca-d86e-cb4af7759f07"
      },
      "source": [
        "mobile_price=amazon_soup.find_all('span',class_='a-price-whole')\n",
        "\n",
        "column_price=[]\n",
        "for i in mobile_price:\n",
        "    column_price.append(i.text.strip())\n",
        "print(column_price)"
      ],
      "execution_count": 109,
      "outputs": [
        {
          "output_type": "stream",
          "text": [
            "['8,799', '6,999', '14,999', '10,999', '7,499', '11,990', '11,990', '13,499', '10,999', '5,000', '7,490', '10,999', '6,999', '7,490', '10,999', '14,499']\n"
          ],
          "name": "stdout"
        }
      ]
    },
    {
      "cell_type": "code",
      "metadata": {
        "colab": {
          "base_uri": "https://localhost:8080/"
        },
        "id": "HNiyy5L1WGyD",
        "outputId": "b6e89f11-688a-4d47-d774-bccabe1b7f13"
      },
      "source": [
        "mobile_image=amazon_soup.find_all('img',class_='s-image')\n",
        "\n",
        "column_image=[]\n",
        "for i in mobile_image:\n",
        "    column_image.append(i['src'])\n",
        "column_image"
      ],
      "execution_count": 110,
      "outputs": [
        {
          "output_type": "execute_result",
          "data": {
            "text/plain": [
              "['https://m.media-amazon.com/images/I/71A9Vo1BatL._AC_UY218_.jpg',\n",
              " 'https://m.media-amazon.com/images/I/71sxlhYhKWL._AC_UY218_.jpg',\n",
              " 'https://m.media-amazon.com/images/I/71-Su4Wr0HL._AC_UY218_.jpg',\n",
              " 'https://m.media-amazon.com/images/I/71yYaNztZ0L._AC_UY218_.jpg',\n",
              " 'https://m.media-amazon.com/images/I/71sxlhYhKWL._AC_UY218_.jpg',\n",
              " 'https://m.media-amazon.com/images/I/71KCwNV6MuL._AC_UY218_.jpg',\n",
              " 'https://m.media-amazon.com/images/I/61IhTtJUXJL._AC_UY218_.jpg',\n",
              " 'https://m.media-amazon.com/images/I/71yYaNztZ0L._AC_UY218_.jpg',\n",
              " 'https://m.media-amazon.com/images/I/71X5I1cVfbL._AC_UY218_.jpg',\n",
              " 'https://m.media-amazon.com/images/I/41QsvcpKaZL._AC_UY218_.jpg',\n",
              " 'https://m.media-amazon.com/images/I/51ZoulFBPGL._AC_UY218_.jpg',\n",
              " 'https://m.media-amazon.com/images/I/714QWDxXgNL._AC_UY218_.jpg',\n",
              " 'https://m.media-amazon.com/images/I/71sxlhYhKWL._AC_UY218_.jpg',\n",
              " 'https://m.media-amazon.com/images/I/51FnmxwFHDL._AC_UY218_.jpg',\n",
              " 'https://m.media-amazon.com/images/I/71PVpFc7FwL._AC_UY218_.jpg',\n",
              " 'https://m.media-amazon.com/images/I/715t-uJnjMS._AC_UY218_.jpg']"
            ]
          },
          "metadata": {
            "tags": []
          },
          "execution_count": 110
        }
      ]
    },
    {
      "cell_type": "code",
      "metadata": {
        "colab": {
          "base_uri": "https://localhost:8080/"
        },
        "id": "YSNPmy0lZliJ",
        "outputId": "e9bd01a8-257d-484c-add1-47cac132812e"
      },
      "source": [
        "mobile_review=amazon_soup.find_all('span',class_='a-icon-alt')\n",
        "\n",
        "column_review=[]\n",
        "for i in mobile_review:\n",
        "    column_review.append(i.text.strip())\n",
        "column_review=column_review[0:16]\n",
        "print(column_review)"
      ],
      "execution_count": 111,
      "outputs": [
        {
          "output_type": "stream",
          "text": [
            "['4.2 out of 5 stars', '4.2 out of 5 stars', '4.3 out of 5 stars', '4.0 out of 5 stars', '4.2 out of 5 stars', '4.2 out of 5 stars', '4.2 out of 5 stars', '4.0 out of 5 stars', '4.3 out of 5 stars', '3.1 out of 5 stars', '4.2 out of 5 stars', '4.0 out of 5 stars', '4.2 out of 5 stars', '4.1 out of 5 stars', '4.0 out of 5 stars', '4.1 out of 5 stars']\n"
          ],
          "name": "stdout"
        }
      ]
    },
    {
      "cell_type": "code",
      "metadata": {
        "colab": {
          "base_uri": "https://localhost:8080/",
          "height": 528
        },
        "id": "G94TdpVfa7xw",
        "outputId": "c13e3334-2e06-465b-aaab-0aff4ff18289"
      },
      "source": [
        "import pandas as pd\n",
        "AmazonMobile=pd.DataFrame({})\n",
        "AmazonMobile['Names']=column_names\n",
        "AmazonMobile['Price']=column_price\n",
        "AmazonMobile['Image url']=column_image\n",
        "AmazonMobile['Review']=column_review\n",
        "\n",
        "AmazonMobile"
      ],
      "execution_count": 112,
      "outputs": [
        {
          "output_type": "execute_result",
          "data": {
            "text/html": [
              "<div>\n",
              "<style scoped>\n",
              "    .dataframe tbody tr th:only-of-type {\n",
              "        vertical-align: middle;\n",
              "    }\n",
              "\n",
              "    .dataframe tbody tr th {\n",
              "        vertical-align: top;\n",
              "    }\n",
              "\n",
              "    .dataframe thead th {\n",
              "        text-align: right;\n",
              "    }\n",
              "</style>\n",
              "<table border=\"1\" class=\"dataframe\">\n",
              "  <thead>\n",
              "    <tr style=\"text-align: right;\">\n",
              "      <th></th>\n",
              "      <th>Names</th>\n",
              "      <th>Price</th>\n",
              "      <th>Image url</th>\n",
              "      <th>Review</th>\n",
              "    </tr>\n",
              "  </thead>\n",
              "  <tbody>\n",
              "    <tr>\n",
              "      <th>0</th>\n",
              "      <td>Redmi 9 (Sky Blue, 4GB RAM, 64GB Storage)</td>\n",
              "      <td>8,799</td>\n",
              "      <td>https://m.media-amazon.com/images/I/71A9Vo1Bat...</td>\n",
              "      <td>4.2 out of 5 stars</td>\n",
              "    </tr>\n",
              "    <tr>\n",
              "      <th>1</th>\n",
              "      <td>Redmi 9A (Nature Green, 2GB RAM, 32GB Storage)</td>\n",
              "      <td>6,999</td>\n",
              "      <td>https://m.media-amazon.com/images/I/71sxlhYhKW...</td>\n",
              "      <td>4.2 out of 5 stars</td>\n",
              "    </tr>\n",
              "    <tr>\n",
              "      <th>2</th>\n",
              "      <td>Samsung Galaxy M31 (Ocean Blue, 6GB RAM, 128GB...</td>\n",
              "      <td>14,999</td>\n",
              "      <td>https://m.media-amazon.com/images/I/71-Su4Wr0H...</td>\n",
              "      <td>4.3 out of 5 stars</td>\n",
              "    </tr>\n",
              "    <tr>\n",
              "      <th>3</th>\n",
              "      <td>Samsung Galaxy M12 (Blue,4GB RAM, 64GB Storage...</td>\n",
              "      <td>10,999</td>\n",
              "      <td>https://m.media-amazon.com/images/I/71yYaNztZ0...</td>\n",
              "      <td>4.0 out of 5 stars</td>\n",
              "    </tr>\n",
              "    <tr>\n",
              "      <th>4</th>\n",
              "      <td>Redmi 9A (Sea Blue 3GB RAM 32GB Storage)</td>\n",
              "      <td>7,499</td>\n",
              "      <td>https://m.media-amazon.com/images/I/71sxlhYhKW...</td>\n",
              "      <td>4.2 out of 5 stars</td>\n",
              "    </tr>\n",
              "    <tr>\n",
              "      <th>5</th>\n",
              "      <td>Oppo A31 (Mystery Black, 6GB RAM, 128GB Storag...</td>\n",
              "      <td>11,990</td>\n",
              "      <td>https://m.media-amazon.com/images/I/71KCwNV6Mu...</td>\n",
              "      <td>4.2 out of 5 stars</td>\n",
              "    </tr>\n",
              "    <tr>\n",
              "      <th>6</th>\n",
              "      <td>Oppo A31 (Fantasy White, 6GB RAM, 128GB Storag...</td>\n",
              "      <td>11,990</td>\n",
              "      <td>https://m.media-amazon.com/images/I/61IhTtJUXJ...</td>\n",
              "      <td>4.2 out of 5 stars</td>\n",
              "    </tr>\n",
              "    <tr>\n",
              "      <th>7</th>\n",
              "      <td>Samsung Galaxy M12 (Blue,6GB RAM, 128GB Storag...</td>\n",
              "      <td>13,499</td>\n",
              "      <td>https://m.media-amazon.com/images/I/71yYaNztZ0...</td>\n",
              "      <td>4.0 out of 5 stars</td>\n",
              "    </tr>\n",
              "    <tr>\n",
              "      <th>8</th>\n",
              "      <td>Redmi Note 9 (Pebble Grey, 4GB RAM 64GB Storag...</td>\n",
              "      <td>10,999</td>\n",
              "      <td>https://m.media-amazon.com/images/I/71X5I1cVfb...</td>\n",
              "      <td>4.3 out of 5 stars</td>\n",
              "    </tr>\n",
              "    <tr>\n",
              "      <th>9</th>\n",
              "      <td>Panasonic Eluga i7 (2GB RAM, 16GB Storage, Fin...</td>\n",
              "      <td>5,000</td>\n",
              "      <td>https://m.media-amazon.com/images/I/41QsvcpKaZ...</td>\n",
              "      <td>3.1 out of 5 stars</td>\n",
              "    </tr>\n",
              "    <tr>\n",
              "      <th>10</th>\n",
              "      <td>Vivo Y91i (Fusion Black, 2GB RAM, 32GB Storage...</td>\n",
              "      <td>7,490</td>\n",
              "      <td>https://m.media-amazon.com/images/I/51ZoulFBPG...</td>\n",
              "      <td>4.2 out of 5 stars</td>\n",
              "    </tr>\n",
              "    <tr>\n",
              "      <th>11</th>\n",
              "      <td>Samsung Galaxy M12 (Black,4GB RAM, 64GB Storag...</td>\n",
              "      <td>10,999</td>\n",
              "      <td>https://m.media-amazon.com/images/I/714QWDxXgN...</td>\n",
              "      <td>4.0 out of 5 stars</td>\n",
              "    </tr>\n",
              "    <tr>\n",
              "      <th>12</th>\n",
              "      <td>Redmi 9A (Sea Blue 2GB RAM 32GB Storage)</td>\n",
              "      <td>6,999</td>\n",
              "      <td>https://m.media-amazon.com/images/I/71sxlhYhKW...</td>\n",
              "      <td>4.2 out of 5 stars</td>\n",
              "    </tr>\n",
              "    <tr>\n",
              "      <th>13</th>\n",
              "      <td>Vivo Y91i (Ocean Blue, 2GB RAM, 32GB Storage) ...</td>\n",
              "      <td>7,490</td>\n",
              "      <td>https://m.media-amazon.com/images/I/51FnmxwFHD...</td>\n",
              "      <td>4.1 out of 5 stars</td>\n",
              "    </tr>\n",
              "    <tr>\n",
              "      <th>14</th>\n",
              "      <td>Samsung Galaxy M12 (White,4GB RAM, 64GB Storag...</td>\n",
              "      <td>10,999</td>\n",
              "      <td>https://m.media-amazon.com/images/I/71PVpFc7Fw...</td>\n",
              "      <td>4.0 out of 5 stars</td>\n",
              "    </tr>\n",
              "    <tr>\n",
              "      <th>15</th>\n",
              "      <td>Redmi Note 10 (Shadow Black, 6GB RAM, 128GB St...</td>\n",
              "      <td>14,499</td>\n",
              "      <td>https://m.media-amazon.com/images/I/715t-uJnjM...</td>\n",
              "      <td>4.1 out of 5 stars</td>\n",
              "    </tr>\n",
              "  </tbody>\n",
              "</table>\n",
              "</div>"
            ],
            "text/plain": [
              "                                                Names  ...              Review\n",
              "0           Redmi 9 (Sky Blue, 4GB RAM, 64GB Storage)  ...  4.2 out of 5 stars\n",
              "1      Redmi 9A (Nature Green, 2GB RAM, 32GB Storage)  ...  4.2 out of 5 stars\n",
              "2   Samsung Galaxy M31 (Ocean Blue, 6GB RAM, 128GB...  ...  4.3 out of 5 stars\n",
              "3   Samsung Galaxy M12 (Blue,4GB RAM, 64GB Storage...  ...  4.0 out of 5 stars\n",
              "4            Redmi 9A (Sea Blue 3GB RAM 32GB Storage)  ...  4.2 out of 5 stars\n",
              "5   Oppo A31 (Mystery Black, 6GB RAM, 128GB Storag...  ...  4.2 out of 5 stars\n",
              "6   Oppo A31 (Fantasy White, 6GB RAM, 128GB Storag...  ...  4.2 out of 5 stars\n",
              "7   Samsung Galaxy M12 (Blue,6GB RAM, 128GB Storag...  ...  4.0 out of 5 stars\n",
              "8   Redmi Note 9 (Pebble Grey, 4GB RAM 64GB Storag...  ...  4.3 out of 5 stars\n",
              "9   Panasonic Eluga i7 (2GB RAM, 16GB Storage, Fin...  ...  3.1 out of 5 stars\n",
              "10  Vivo Y91i (Fusion Black, 2GB RAM, 32GB Storage...  ...  4.2 out of 5 stars\n",
              "11  Samsung Galaxy M12 (Black,4GB RAM, 64GB Storag...  ...  4.0 out of 5 stars\n",
              "12           Redmi 9A (Sea Blue 2GB RAM 32GB Storage)  ...  4.2 out of 5 stars\n",
              "13  Vivo Y91i (Ocean Blue, 2GB RAM, 32GB Storage) ...  ...  4.1 out of 5 stars\n",
              "14  Samsung Galaxy M12 (White,4GB RAM, 64GB Storag...  ...  4.0 out of 5 stars\n",
              "15  Redmi Note 10 (Shadow Black, 6GB RAM, 128GB St...  ...  4.1 out of 5 stars\n",
              "\n",
              "[16 rows x 4 columns]"
            ]
          },
          "metadata": {
            "tags": []
          },
          "execution_count": 112
        }
      ]
    },
    {
      "cell_type": "code",
      "metadata": {
        "id": "nXUt_f9HcLZ_"
      },
      "source": [
        ""
      ],
      "execution_count": null,
      "outputs": []
    },
    {
      "cell_type": "markdown",
      "metadata": {
        "id": "JAfUPtyZAo4d"
      },
      "source": [
        "## **8. Write a python program to extract information about the local weather from the National Weather Service website of USA, https://www.weather.gov/ for the city, San Francisco. You need to extract data about 7 day extended forecast display for the city. The data should include period, short description, temperature and description.**"
      ]
    },
    {
      "cell_type": "code",
      "metadata": {
        "colab": {
          "base_uri": "https://localhost:8080/"
        },
        "id": "Z-fR4XJ6cL0u",
        "outputId": "724b4770-cd28-4ef6-a3a5-752533c3a1a2"
      },
      "source": [
        "wheather_page=requests.get('https://forecast.weather.gov/MapClick.php?lat=37.777120000000025&lon=-122.41963999999996#.YLcqPBozbIV')\n",
        "print(wheather_page)\n",
        "\n",
        "wheather_soup=BeautifulSoup(wheather_page.content,'html.parser')"
      ],
      "execution_count": 114,
      "outputs": [
        {
          "output_type": "stream",
          "text": [
            "<Response [200]>\n"
          ],
          "name": "stdout"
        }
      ]
    },
    {
      "cell_type": "code",
      "metadata": {
        "colab": {
          "base_uri": "https://localhost:8080/"
        },
        "id": "I74vZt2Zgicx",
        "outputId": "14d7d960-58f8-40ba-c797-f58cd4a49d79"
      },
      "source": [
        "period_SF=wheather_soup.find_all('p',class_='period-name')\n",
        "\n",
        "column_period=[]\n",
        "for i in period_SF:\n",
        "    column_period.append(i.text.strip())\n",
        "print(column_period)"
      ],
      "execution_count": 115,
      "outputs": [
        {
          "output_type": "stream",
          "text": [
            "['Today', 'Tonight', 'Thursday', 'ThursdayNight', 'Friday', 'FridayNight', 'Saturday', 'SaturdayNight', 'Sunday']\n"
          ],
          "name": "stdout"
        }
      ]
    },
    {
      "cell_type": "code",
      "metadata": {
        "colab": {
          "base_uri": "https://localhost:8080/"
        },
        "id": "pPHkW2YUgij3",
        "outputId": "907db66f-1083-4334-cd95-39190426884e"
      },
      "source": [
        "sdescription_SF=wheather_soup.find_all('p',class_='short-desc')\n",
        "\n",
        "column_sdescription=[]\n",
        "for i in sdescription_SF:\n",
        "    column_sdescription.append(i.text)\n",
        "print(column_sdescription)"
      ],
      "execution_count": 116,
      "outputs": [
        {
          "output_type": "stream",
          "text": [
            "['Mostly Cloudythen MostlySunny andBreezy', 'Mostly Cloudyand Breezythen MostlyCloudy', 'Partly Sunnythen Sunnyand Breezy', 'Mostly Clearand Breezythen PartlyCloudy', 'Mostly Sunnythen Sunnyand Breezy', 'Mostly Clearand Breezythen MostlyClear', 'Sunny', 'Mostly Clear', 'Sunny']\n"
          ],
          "name": "stdout"
        }
      ]
    },
    {
      "cell_type": "code",
      "metadata": {
        "colab": {
          "base_uri": "https://localhost:8080/"
        },
        "id": "_VQ5hqGhjGwb",
        "outputId": "c91e87c2-1311-46eb-b99d-169f8720bd21"
      },
      "source": [
        "temperature_SF=wheather_soup.find_all('p',class_='temp')\n",
        "\n",
        "column_temperature=[]\n",
        "for i in temperature_SF:\n",
        "    column_temperature.append(i.text)\n",
        "print(column_temperature)"
      ],
      "execution_count": 117,
      "outputs": [
        {
          "output_type": "stream",
          "text": [
            "['High: 63 °F', 'Low: 53 °F', 'High: 68 °F', 'Low: 53 °F', 'High: 67 °F', 'Low: 53 °F', 'High: 68 °F', 'Low: 52 °F', 'High: 67 °F']\n"
          ],
          "name": "stdout"
        }
      ]
    },
    {
      "cell_type": "code",
      "metadata": {
        "colab": {
          "base_uri": "https://localhost:8080/"
        },
        "id": "YIVKNuzskuEp",
        "outputId": "779174fa-75fa-40e9-b59e-d0bc3eb4ba0c"
      },
      "source": [
        "description_SF=wheather_soup.find_all('div',class_='col-sm-10 forecast-text')\n",
        "\n",
        "column_description=[]\n",
        "for i in description_SF:\n",
        "    column_description.append(i.text)\n",
        "column_description=column_description[0:9]\n",
        "column_description"
      ],
      "execution_count": 118,
      "outputs": [
        {
          "output_type": "execute_result",
          "data": {
            "text/plain": [
              "['Cloudy through mid morning, then gradual clearing, with a high near 63. Breezy, with a west southwest wind 11 to 16 mph increasing to 19 to 24 mph in the afternoon. Winds could gust as high as 31 mph. ',\n",
              " 'Mostly cloudy, with a low around 53. Breezy, with a west southwest wind 18 to 23 mph decreasing to 10 to 15 mph after midnight. Winds could gust as high as 30 mph. ',\n",
              " 'Mostly cloudy, then gradually becoming sunny, with a high near 68. Breezy, with a southwest wind 10 to 15 mph increasing to 17 to 22 mph in the afternoon. Winds could gust as high as 29 mph. ',\n",
              " 'Partly cloudy, with a low around 53. Breezy, with a west wind 18 to 23 mph decreasing to 11 to 16 mph after midnight. Winds could gust as high as 30 mph. ',\n",
              " 'Mostly sunny, with a high near 67. Breezy, with a west southwest wind 9 to 14 mph increasing to 18 to 23 mph in the afternoon. Winds could gust as high as 30 mph. ',\n",
              " 'Mostly clear, with a low around 53. Breezy. ',\n",
              " 'Sunny, with a high near 68.',\n",
              " 'Mostly clear, with a low around 52.',\n",
              " 'Sunny, with a high near 67.']"
            ]
          },
          "metadata": {
            "tags": []
          },
          "execution_count": 118
        }
      ]
    },
    {
      "cell_type": "code",
      "metadata": {
        "colab": {
          "base_uri": "https://localhost:8080/",
          "height": 318
        },
        "id": "4Hw6Tq9Gme7G",
        "outputId": "bae3ea4b-72ed-4486-ba51-7f4fedc5e18e"
      },
      "source": [
        "import pandas as pd\n",
        "wheather=pd.DataFrame({})\n",
        "wheather['Period']=column_period\n",
        "wheather['ShortDescription']=column_sdescription\n",
        "wheather['Temperature']=column_temperature\n",
        "wheather['Description']=column_description\n",
        "\n",
        "wheather"
      ],
      "execution_count": 119,
      "outputs": [
        {
          "output_type": "execute_result",
          "data": {
            "text/html": [
              "<div>\n",
              "<style scoped>\n",
              "    .dataframe tbody tr th:only-of-type {\n",
              "        vertical-align: middle;\n",
              "    }\n",
              "\n",
              "    .dataframe tbody tr th {\n",
              "        vertical-align: top;\n",
              "    }\n",
              "\n",
              "    .dataframe thead th {\n",
              "        text-align: right;\n",
              "    }\n",
              "</style>\n",
              "<table border=\"1\" class=\"dataframe\">\n",
              "  <thead>\n",
              "    <tr style=\"text-align: right;\">\n",
              "      <th></th>\n",
              "      <th>Period</th>\n",
              "      <th>ShortDescription</th>\n",
              "      <th>Temperature</th>\n",
              "      <th>Description</th>\n",
              "    </tr>\n",
              "  </thead>\n",
              "  <tbody>\n",
              "    <tr>\n",
              "      <th>0</th>\n",
              "      <td>Today</td>\n",
              "      <td>Mostly Cloudythen MostlySunny andBreezy</td>\n",
              "      <td>High: 63 °F</td>\n",
              "      <td>Cloudy through mid morning, then gradual clear...</td>\n",
              "    </tr>\n",
              "    <tr>\n",
              "      <th>1</th>\n",
              "      <td>Tonight</td>\n",
              "      <td>Mostly Cloudyand Breezythen MostlyCloudy</td>\n",
              "      <td>Low: 53 °F</td>\n",
              "      <td>Mostly cloudy, with a low around 53. Breezy, w...</td>\n",
              "    </tr>\n",
              "    <tr>\n",
              "      <th>2</th>\n",
              "      <td>Thursday</td>\n",
              "      <td>Partly Sunnythen Sunnyand Breezy</td>\n",
              "      <td>High: 68 °F</td>\n",
              "      <td>Mostly cloudy, then gradually becoming sunny, ...</td>\n",
              "    </tr>\n",
              "    <tr>\n",
              "      <th>3</th>\n",
              "      <td>ThursdayNight</td>\n",
              "      <td>Mostly Clearand Breezythen PartlyCloudy</td>\n",
              "      <td>Low: 53 °F</td>\n",
              "      <td>Partly cloudy, with a low around 53. Breezy, w...</td>\n",
              "    </tr>\n",
              "    <tr>\n",
              "      <th>4</th>\n",
              "      <td>Friday</td>\n",
              "      <td>Mostly Sunnythen Sunnyand Breezy</td>\n",
              "      <td>High: 67 °F</td>\n",
              "      <td>Mostly sunny, with a high near 67. Breezy, wit...</td>\n",
              "    </tr>\n",
              "    <tr>\n",
              "      <th>5</th>\n",
              "      <td>FridayNight</td>\n",
              "      <td>Mostly Clearand Breezythen MostlyClear</td>\n",
              "      <td>Low: 53 °F</td>\n",
              "      <td>Mostly clear, with a low around 53. Breezy.</td>\n",
              "    </tr>\n",
              "    <tr>\n",
              "      <th>6</th>\n",
              "      <td>Saturday</td>\n",
              "      <td>Sunny</td>\n",
              "      <td>High: 68 °F</td>\n",
              "      <td>Sunny, with a high near 68.</td>\n",
              "    </tr>\n",
              "    <tr>\n",
              "      <th>7</th>\n",
              "      <td>SaturdayNight</td>\n",
              "      <td>Mostly Clear</td>\n",
              "      <td>Low: 52 °F</td>\n",
              "      <td>Mostly clear, with a low around 52.</td>\n",
              "    </tr>\n",
              "    <tr>\n",
              "      <th>8</th>\n",
              "      <td>Sunday</td>\n",
              "      <td>Sunny</td>\n",
              "      <td>High: 67 °F</td>\n",
              "      <td>Sunny, with a high near 67.</td>\n",
              "    </tr>\n",
              "  </tbody>\n",
              "</table>\n",
              "</div>"
            ],
            "text/plain": [
              "          Period  ...                                        Description\n",
              "0          Today  ...  Cloudy through mid morning, then gradual clear...\n",
              "1        Tonight  ...  Mostly cloudy, with a low around 53. Breezy, w...\n",
              "2       Thursday  ...  Mostly cloudy, then gradually becoming sunny, ...\n",
              "3  ThursdayNight  ...  Partly cloudy, with a low around 53. Breezy, w...\n",
              "4         Friday  ...  Mostly sunny, with a high near 67. Breezy, wit...\n",
              "5    FridayNight  ...       Mostly clear, with a low around 53. Breezy. \n",
              "6       Saturday  ...                        Sunny, with a high near 68.\n",
              "7  SaturdayNight  ...                Mostly clear, with a low around 52.\n",
              "8         Sunday  ...                        Sunny, with a high near 67.\n",
              "\n",
              "[9 rows x 4 columns]"
            ]
          },
          "metadata": {
            "tags": []
          },
          "execution_count": 119
        }
      ]
    },
    {
      "cell_type": "code",
      "metadata": {
        "id": "J6y1ysq4BVtW"
      },
      "source": [
        ""
      ],
      "execution_count": null,
      "outputs": []
    },
    {
      "cell_type": "markdown",
      "metadata": {
        "id": "uvlXDvlLBWFC"
      },
      "source": [
        "## **9. Write a python program to scrape fresher job listings from ‘https://internshala.com/’. It should include job title, company name, CTC, and apply date.**"
      ]
    },
    {
      "cell_type": "code",
      "metadata": {
        "colab": {
          "base_uri": "https://localhost:8080/"
        },
        "id": "CBflIM-sBgFY",
        "outputId": "65c90a35-74ca-41a7-9912-5e6de9d8f6cd"
      },
      "source": [
        "job_page=requests.get('https://internshala.com/fresher-jobs/page-1')\n",
        "print(job_page)\n",
        "\n",
        "job_soup=BeautifulSoup(job_page.content,'html.parser')"
      ],
      "execution_count": 122,
      "outputs": [
        {
          "output_type": "stream",
          "text": [
            "<Response [200]>\n"
          ],
          "name": "stdout"
        }
      ]
    },
    {
      "cell_type": "code",
      "metadata": {
        "colab": {
          "base_uri": "https://localhost:8080/"
        },
        "id": "R-V91aKUCfU8",
        "outputId": "153ac1ff-3d7a-44a2-b56a-0f806fb3acfd"
      },
      "source": [
        "job_title=job_soup.find_all('div',class_='heading_4_5 profile')\n",
        "\n",
        "column_title=[]\n",
        "for i in job_title:\n",
        "    column_title.append(i.text.strip())\n",
        "print(column_title)"
      ],
      "execution_count": 123,
      "outputs": [
        {
          "output_type": "stream",
          "text": [
            "['Research And Communications Associate', 'Data Scientist', 'Data Science Django Developer', 'Corporate Sales Associate', 'Full Stack Developer', 'Full Stack Developer (MERN)', 'Business Development Executive', 'Sales Development Representative', 'Graphic Designer', 'Operations Executive', 'Business Development Executive', 'Admission Counselor (Sales)', 'Sales And Business Development Analyst', 'Growth Hacking Digital Marketer', 'Junior Node.js Developer', 'Junior Digital Marketing Executive', 'iOS App Developer', 'Food Journalist', 'Junior Software Developer', 'Full Stack Developer', 'Business Analyst', 'Associate Full Stack Developer', 'Full Stack Engineer', 'Product Marketer', 'Business Development Executive', 'Associate - Business Development', 'Research Analyst (Economics)', 'Machine Learning Engineer', 'Business Analyst', 'Business Development Executive (Inside Sales)', 'Business Development Associate', 'Full Stack Software Engineer', 'Associate Front End Developer', 'Talent Acquisition Executive', 'Full Stack Developer', 'Backend Developer', 'Full Stack Developer', 'Junior Sales Associate', 'Digital Marketing Specialist', 'Android App Developer']\n"
          ],
          "name": "stdout"
        }
      ]
    },
    {
      "cell_type": "code",
      "metadata": {
        "colab": {
          "base_uri": "https://localhost:8080/"
        },
        "id": "BazAdoROEKrf",
        "outputId": "4e18900a-3060-4750-9e8b-d226bb9a6daf"
      },
      "source": [
        "job_company=job_soup.find_all('div',class_='heading_6 company_name')\n",
        "\n",
        "column_company=[]\n",
        "for i in job_company:\n",
        "    column_company.append(i.text.strip())\n",
        "print(column_company)"
      ],
      "execution_count": 124,
      "outputs": [
        {
          "output_type": "stream",
          "text": [
            "['Institute For Governance, Policies & Politics', 'ProtonAutoML', 'Markytics', 'MiM-Essay', 'Wondermail', 'Project Tinker', 'Kaizen Academy', 'Amigobulls', 'Underground Movement LLP', 'Alphacore Technologies Private Limited', 'Ruhcom Enterprises Private Limited', 'Sky Education Group', \"Mo's F&B Group\", 'Sleep Love', 'Askadmissions.ai', 'Krivy', 'Ascentspark Software Private Limited', 'Truffle Nation', 'Habitate Technologies Private Limited', 'SoluLab', 'SoluLab', 'REPOZITORY TECHNOLOGIES PRIVATE LIMITED', 'Beehive Academy India', 'Bip', 'Tabeazy', 'Leverage Edu', 'DEX-DEFT Research And Consulting OPC Private Limited', 'AIMonk Labs Technology Limited', 'Kasper Consulting Private Limited', 'GREedge', 'PEPKIDZ LEARNING', 'Flair Labs', 'Little Big Things', 'CrewKarma', 'Codfirm', 'WebMOBI', 'TMBill Software', 'Kraftshala', 'Black Jack', 'Storlyy']\n"
          ],
          "name": "stdout"
        }
      ]
    },
    {
      "cell_type": "code",
      "metadata": {
        "colab": {
          "base_uri": "https://localhost:8080/"
        },
        "id": "fNYFSPHFEt0S",
        "outputId": "643d8e96-9444-4263-8013-2e0c7a8a976e"
      },
      "source": [
        "job_ctc=job_soup.find_all('div',class_='item_body')\n",
        "\n",
        "column_ctc=[]\n",
        "for i in job_ctc:\n",
        "    column_ctc.append(i.text.strip().replace('Starts\\xa0Immediately',''))\n",
        "\n",
        "col_ctc=[]\n",
        "\n",
        "for i in range(1,len(column_ctc),3):\n",
        "  col_ctc.append(column_ctc[i])\n",
        "\n",
        "print(col_ctc)"
      ],
      "execution_count": 173,
      "outputs": [
        {
          "output_type": "stream",
          "text": [
            "['3 - 4.5 LPA', '3 - 3.5 LPA', '3 - 4.5 LPA', '5 - 6.5 LPA', '4 - 7 LPA', '4 - 7.2 LPA', '4.5 - 6 LPA', '5.5 - 6.5 LPA', '3 - 5 LPA', '3 - 3.5 LPA', '3 LPA', '3 LPA', '3 - 3.1 LPA', '3 - 3.5 LPA', '3 - 4 LPA', '3 LPA', '3.6 - 7 LPA', '3 - 4.5 LPA', '5.2 - 7 LPA', '3 - 5 LPA', '3 - 4.2 LPA', '3 - 3.6 LPA', '4.2 - 8.2 LPA', '3 - 6 LPA', '3 LPA', '3.6 LPA', '3 LPA', '5 - 6.5 LPA', '3.25 - 4 LPA', '3.75 LPA', '3 - 4 LPA', '3 - 4 LPA', '3 - 5 LPA', '3 - 5 LPA', '5 - 8 LPA', '3 LPA', '3 LPA', '4 LPA', '3 - 5 LPA', '3 - 3.5 LPA']\n"
          ],
          "name": "stdout"
        }
      ]
    },
    {
      "cell_type": "code",
      "metadata": {
        "colab": {
          "base_uri": "https://localhost:8080/"
        },
        "id": "X_TqTZG-IzuL",
        "outputId": "28df4c86-07d0-41ad-eb7f-fb745b5a25b4"
      },
      "source": [
        "col_applydate=[]\n",
        "\n",
        "for i in range(2,len(column_ctc),3):\n",
        "  col_applydate.append(column_ctc[i])\n",
        "\n",
        "print(col_applydate)"
      ],
      "execution_count": 171,
      "outputs": [
        {
          "output_type": "stream",
          "text": [
            "[\"2 Jul' 21\", \"2 Jul' 21\", \"2 Jul' 21\", \"2 Jul' 21\", \"1 Jul' 21\", \"1 Jul' 21\", \"1 Jul' 21\", \"1 Jul' 21\", \"1 Jul' 21\", \"1 Jul' 21\", \"1 Jul' 21\", \"30 Jun' 21\", \"30 Jun' 21\", \"30 Jun' 21\", \"30 Jun' 21\", \"30 Jun' 21\", \"30 Jun' 21\", \"30 Jun' 21\", \"30 Jun' 21\", \"28 Jun' 21\", \"28 Jun' 21\", \"30 Jun' 21\", \"28 Jun' 21\", \"27 Jun' 21\", \"27 Jun' 21\", \"27 Jun' 21\", \"30 Jun' 21\", \"27 Jun' 21\", \"26 Jun' 21\", \"26 Jun' 21\", \"25 Jun' 21\", \"25 Jun' 21\", \"25 Jun' 21\", \"24 Jun' 21\", \"24 Jun' 21\", \"24 Jun' 21\", \"24 Jun' 21\", \"24 Jun' 21\", \"24 Jun' 21\", \"23 Jun' 21\"]\n"
          ],
          "name": "stdout"
        }
      ]
    },
    {
      "cell_type": "code",
      "metadata": {
        "colab": {
          "base_uri": "https://localhost:8080/",
          "height": 1000
        },
        "id": "7qJW33MlIYQh",
        "outputId": "14c0b065-e349-46f5-c851-a6776dc09d92"
      },
      "source": [
        "import pandas as pd\n",
        "job=pd.DataFrame({})\n",
        "job['Job Title']=column_title\n",
        "job['Company Name']=column_company\n",
        "job['CTC']=col_ctc\n",
        "job['Apply By ']=col_applydate\n",
        "\n",
        "job"
      ],
      "execution_count": 174,
      "outputs": [
        {
          "output_type": "execute_result",
          "data": {
            "text/html": [
              "<div>\n",
              "<style scoped>\n",
              "    .dataframe tbody tr th:only-of-type {\n",
              "        vertical-align: middle;\n",
              "    }\n",
              "\n",
              "    .dataframe tbody tr th {\n",
              "        vertical-align: top;\n",
              "    }\n",
              "\n",
              "    .dataframe thead th {\n",
              "        text-align: right;\n",
              "    }\n",
              "</style>\n",
              "<table border=\"1\" class=\"dataframe\">\n",
              "  <thead>\n",
              "    <tr style=\"text-align: right;\">\n",
              "      <th></th>\n",
              "      <th>Job Title</th>\n",
              "      <th>Company Name</th>\n",
              "      <th>CTC</th>\n",
              "      <th>Apply By</th>\n",
              "    </tr>\n",
              "  </thead>\n",
              "  <tbody>\n",
              "    <tr>\n",
              "      <th>0</th>\n",
              "      <td>Research And Communications Associate</td>\n",
              "      <td>Institute For Governance, Policies &amp; Politics</td>\n",
              "      <td>3 - 4.5 LPA</td>\n",
              "      <td>2 Jul' 21</td>\n",
              "    </tr>\n",
              "    <tr>\n",
              "      <th>1</th>\n",
              "      <td>Data Scientist</td>\n",
              "      <td>ProtonAutoML</td>\n",
              "      <td>3 - 3.5 LPA</td>\n",
              "      <td>2 Jul' 21</td>\n",
              "    </tr>\n",
              "    <tr>\n",
              "      <th>2</th>\n",
              "      <td>Data Science Django Developer</td>\n",
              "      <td>Markytics</td>\n",
              "      <td>3 - 4.5 LPA</td>\n",
              "      <td>2 Jul' 21</td>\n",
              "    </tr>\n",
              "    <tr>\n",
              "      <th>3</th>\n",
              "      <td>Corporate Sales Associate</td>\n",
              "      <td>MiM-Essay</td>\n",
              "      <td>5 - 6.5 LPA</td>\n",
              "      <td>2 Jul' 21</td>\n",
              "    </tr>\n",
              "    <tr>\n",
              "      <th>4</th>\n",
              "      <td>Full Stack Developer</td>\n",
              "      <td>Wondermail</td>\n",
              "      <td>4 - 7 LPA</td>\n",
              "      <td>1 Jul' 21</td>\n",
              "    </tr>\n",
              "    <tr>\n",
              "      <th>5</th>\n",
              "      <td>Full Stack Developer (MERN)</td>\n",
              "      <td>Project Tinker</td>\n",
              "      <td>4 - 7.2 LPA</td>\n",
              "      <td>1 Jul' 21</td>\n",
              "    </tr>\n",
              "    <tr>\n",
              "      <th>6</th>\n",
              "      <td>Business Development Executive</td>\n",
              "      <td>Kaizen Academy</td>\n",
              "      <td>4.5 - 6 LPA</td>\n",
              "      <td>1 Jul' 21</td>\n",
              "    </tr>\n",
              "    <tr>\n",
              "      <th>7</th>\n",
              "      <td>Sales Development Representative</td>\n",
              "      <td>Amigobulls</td>\n",
              "      <td>5.5 - 6.5 LPA</td>\n",
              "      <td>1 Jul' 21</td>\n",
              "    </tr>\n",
              "    <tr>\n",
              "      <th>8</th>\n",
              "      <td>Graphic Designer</td>\n",
              "      <td>Underground Movement LLP</td>\n",
              "      <td>3 - 5 LPA</td>\n",
              "      <td>1 Jul' 21</td>\n",
              "    </tr>\n",
              "    <tr>\n",
              "      <th>9</th>\n",
              "      <td>Operations Executive</td>\n",
              "      <td>Alphacore Technologies Private Limited</td>\n",
              "      <td>3 - 3.5 LPA</td>\n",
              "      <td>1 Jul' 21</td>\n",
              "    </tr>\n",
              "    <tr>\n",
              "      <th>10</th>\n",
              "      <td>Business Development Executive</td>\n",
              "      <td>Ruhcom Enterprises Private Limited</td>\n",
              "      <td>3 LPA</td>\n",
              "      <td>1 Jul' 21</td>\n",
              "    </tr>\n",
              "    <tr>\n",
              "      <th>11</th>\n",
              "      <td>Admission Counselor (Sales)</td>\n",
              "      <td>Sky Education Group</td>\n",
              "      <td>3 LPA</td>\n",
              "      <td>30 Jun' 21</td>\n",
              "    </tr>\n",
              "    <tr>\n",
              "      <th>12</th>\n",
              "      <td>Sales And Business Development Analyst</td>\n",
              "      <td>Mo's F&amp;B Group</td>\n",
              "      <td>3 - 3.1 LPA</td>\n",
              "      <td>30 Jun' 21</td>\n",
              "    </tr>\n",
              "    <tr>\n",
              "      <th>13</th>\n",
              "      <td>Growth Hacking Digital Marketer</td>\n",
              "      <td>Sleep Love</td>\n",
              "      <td>3 - 3.5 LPA</td>\n",
              "      <td>30 Jun' 21</td>\n",
              "    </tr>\n",
              "    <tr>\n",
              "      <th>14</th>\n",
              "      <td>Junior Node.js Developer</td>\n",
              "      <td>Askadmissions.ai</td>\n",
              "      <td>3 - 4 LPA</td>\n",
              "      <td>30 Jun' 21</td>\n",
              "    </tr>\n",
              "    <tr>\n",
              "      <th>15</th>\n",
              "      <td>Junior Digital Marketing Executive</td>\n",
              "      <td>Krivy</td>\n",
              "      <td>3 LPA</td>\n",
              "      <td>30 Jun' 21</td>\n",
              "    </tr>\n",
              "    <tr>\n",
              "      <th>16</th>\n",
              "      <td>iOS App Developer</td>\n",
              "      <td>Ascentspark Software Private Limited</td>\n",
              "      <td>3.6 - 7 LPA</td>\n",
              "      <td>30 Jun' 21</td>\n",
              "    </tr>\n",
              "    <tr>\n",
              "      <th>17</th>\n",
              "      <td>Food Journalist</td>\n",
              "      <td>Truffle Nation</td>\n",
              "      <td>3 - 4.5 LPA</td>\n",
              "      <td>30 Jun' 21</td>\n",
              "    </tr>\n",
              "    <tr>\n",
              "      <th>18</th>\n",
              "      <td>Junior Software Developer</td>\n",
              "      <td>Habitate Technologies Private Limited</td>\n",
              "      <td>5.2 - 7 LPA</td>\n",
              "      <td>30 Jun' 21</td>\n",
              "    </tr>\n",
              "    <tr>\n",
              "      <th>19</th>\n",
              "      <td>Full Stack Developer</td>\n",
              "      <td>SoluLab</td>\n",
              "      <td>3 - 5 LPA</td>\n",
              "      <td>28 Jun' 21</td>\n",
              "    </tr>\n",
              "    <tr>\n",
              "      <th>20</th>\n",
              "      <td>Business Analyst</td>\n",
              "      <td>SoluLab</td>\n",
              "      <td>3 - 4.2 LPA</td>\n",
              "      <td>28 Jun' 21</td>\n",
              "    </tr>\n",
              "    <tr>\n",
              "      <th>21</th>\n",
              "      <td>Associate Full Stack Developer</td>\n",
              "      <td>REPOZITORY TECHNOLOGIES PRIVATE LIMITED</td>\n",
              "      <td>3 - 3.6 LPA</td>\n",
              "      <td>30 Jun' 21</td>\n",
              "    </tr>\n",
              "    <tr>\n",
              "      <th>22</th>\n",
              "      <td>Full Stack Engineer</td>\n",
              "      <td>Beehive Academy India</td>\n",
              "      <td>4.2 - 8.2 LPA</td>\n",
              "      <td>28 Jun' 21</td>\n",
              "    </tr>\n",
              "    <tr>\n",
              "      <th>23</th>\n",
              "      <td>Product Marketer</td>\n",
              "      <td>Bip</td>\n",
              "      <td>3 - 6 LPA</td>\n",
              "      <td>27 Jun' 21</td>\n",
              "    </tr>\n",
              "    <tr>\n",
              "      <th>24</th>\n",
              "      <td>Business Development Executive</td>\n",
              "      <td>Tabeazy</td>\n",
              "      <td>3 LPA</td>\n",
              "      <td>27 Jun' 21</td>\n",
              "    </tr>\n",
              "    <tr>\n",
              "      <th>25</th>\n",
              "      <td>Associate - Business Development</td>\n",
              "      <td>Leverage Edu</td>\n",
              "      <td>3.6 LPA</td>\n",
              "      <td>27 Jun' 21</td>\n",
              "    </tr>\n",
              "    <tr>\n",
              "      <th>26</th>\n",
              "      <td>Research Analyst (Economics)</td>\n",
              "      <td>DEX-DEFT Research And Consulting OPC Private L...</td>\n",
              "      <td>3 LPA</td>\n",
              "      <td>30 Jun' 21</td>\n",
              "    </tr>\n",
              "    <tr>\n",
              "      <th>27</th>\n",
              "      <td>Machine Learning Engineer</td>\n",
              "      <td>AIMonk Labs Technology Limited</td>\n",
              "      <td>5 - 6.5 LPA</td>\n",
              "      <td>27 Jun' 21</td>\n",
              "    </tr>\n",
              "    <tr>\n",
              "      <th>28</th>\n",
              "      <td>Business Analyst</td>\n",
              "      <td>Kasper Consulting Private Limited</td>\n",
              "      <td>3.25 - 4 LPA</td>\n",
              "      <td>26 Jun' 21</td>\n",
              "    </tr>\n",
              "    <tr>\n",
              "      <th>29</th>\n",
              "      <td>Business Development Executive (Inside Sales)</td>\n",
              "      <td>GREedge</td>\n",
              "      <td>3.75 LPA</td>\n",
              "      <td>26 Jun' 21</td>\n",
              "    </tr>\n",
              "    <tr>\n",
              "      <th>30</th>\n",
              "      <td>Business Development Associate</td>\n",
              "      <td>PEPKIDZ LEARNING</td>\n",
              "      <td>3 - 4 LPA</td>\n",
              "      <td>25 Jun' 21</td>\n",
              "    </tr>\n",
              "    <tr>\n",
              "      <th>31</th>\n",
              "      <td>Full Stack Software Engineer</td>\n",
              "      <td>Flair Labs</td>\n",
              "      <td>3 - 4 LPA</td>\n",
              "      <td>25 Jun' 21</td>\n",
              "    </tr>\n",
              "    <tr>\n",
              "      <th>32</th>\n",
              "      <td>Associate Front End Developer</td>\n",
              "      <td>Little Big Things</td>\n",
              "      <td>3 - 5 LPA</td>\n",
              "      <td>25 Jun' 21</td>\n",
              "    </tr>\n",
              "    <tr>\n",
              "      <th>33</th>\n",
              "      <td>Talent Acquisition Executive</td>\n",
              "      <td>CrewKarma</td>\n",
              "      <td>3 - 5 LPA</td>\n",
              "      <td>24 Jun' 21</td>\n",
              "    </tr>\n",
              "    <tr>\n",
              "      <th>34</th>\n",
              "      <td>Full Stack Developer</td>\n",
              "      <td>Codfirm</td>\n",
              "      <td>5 - 8 LPA</td>\n",
              "      <td>24 Jun' 21</td>\n",
              "    </tr>\n",
              "    <tr>\n",
              "      <th>35</th>\n",
              "      <td>Backend Developer</td>\n",
              "      <td>WebMOBI</td>\n",
              "      <td>3 LPA</td>\n",
              "      <td>24 Jun' 21</td>\n",
              "    </tr>\n",
              "    <tr>\n",
              "      <th>36</th>\n",
              "      <td>Full Stack Developer</td>\n",
              "      <td>TMBill Software</td>\n",
              "      <td>3 LPA</td>\n",
              "      <td>24 Jun' 21</td>\n",
              "    </tr>\n",
              "    <tr>\n",
              "      <th>37</th>\n",
              "      <td>Junior Sales Associate</td>\n",
              "      <td>Kraftshala</td>\n",
              "      <td>4 LPA</td>\n",
              "      <td>24 Jun' 21</td>\n",
              "    </tr>\n",
              "    <tr>\n",
              "      <th>38</th>\n",
              "      <td>Digital Marketing Specialist</td>\n",
              "      <td>Black Jack</td>\n",
              "      <td>3 - 5 LPA</td>\n",
              "      <td>24 Jun' 21</td>\n",
              "    </tr>\n",
              "    <tr>\n",
              "      <th>39</th>\n",
              "      <td>Android App Developer</td>\n",
              "      <td>Storlyy</td>\n",
              "      <td>3 - 3.5 LPA</td>\n",
              "      <td>23 Jun' 21</td>\n",
              "    </tr>\n",
              "  </tbody>\n",
              "</table>\n",
              "</div>"
            ],
            "text/plain": [
              "                                        Job Title  ...   Apply By \n",
              "0           Research And Communications Associate  ...   2 Jul' 21\n",
              "1                                  Data Scientist  ...   2 Jul' 21\n",
              "2                   Data Science Django Developer  ...   2 Jul' 21\n",
              "3                       Corporate Sales Associate  ...   2 Jul' 21\n",
              "4                            Full Stack Developer  ...   1 Jul' 21\n",
              "5                     Full Stack Developer (MERN)  ...   1 Jul' 21\n",
              "6                  Business Development Executive  ...   1 Jul' 21\n",
              "7                Sales Development Representative  ...   1 Jul' 21\n",
              "8                                Graphic Designer  ...   1 Jul' 21\n",
              "9                            Operations Executive  ...   1 Jul' 21\n",
              "10                 Business Development Executive  ...   1 Jul' 21\n",
              "11                    Admission Counselor (Sales)  ...  30 Jun' 21\n",
              "12         Sales And Business Development Analyst  ...  30 Jun' 21\n",
              "13                Growth Hacking Digital Marketer  ...  30 Jun' 21\n",
              "14                       Junior Node.js Developer  ...  30 Jun' 21\n",
              "15             Junior Digital Marketing Executive  ...  30 Jun' 21\n",
              "16                              iOS App Developer  ...  30 Jun' 21\n",
              "17                                Food Journalist  ...  30 Jun' 21\n",
              "18                      Junior Software Developer  ...  30 Jun' 21\n",
              "19                           Full Stack Developer  ...  28 Jun' 21\n",
              "20                               Business Analyst  ...  28 Jun' 21\n",
              "21                 Associate Full Stack Developer  ...  30 Jun' 21\n",
              "22                            Full Stack Engineer  ...  28 Jun' 21\n",
              "23                               Product Marketer  ...  27 Jun' 21\n",
              "24                 Business Development Executive  ...  27 Jun' 21\n",
              "25               Associate - Business Development  ...  27 Jun' 21\n",
              "26                   Research Analyst (Economics)  ...  30 Jun' 21\n",
              "27                      Machine Learning Engineer  ...  27 Jun' 21\n",
              "28                               Business Analyst  ...  26 Jun' 21\n",
              "29  Business Development Executive (Inside Sales)  ...  26 Jun' 21\n",
              "30                 Business Development Associate  ...  25 Jun' 21\n",
              "31                   Full Stack Software Engineer  ...  25 Jun' 21\n",
              "32                  Associate Front End Developer  ...  25 Jun' 21\n",
              "33                   Talent Acquisition Executive  ...  24 Jun' 21\n",
              "34                           Full Stack Developer  ...  24 Jun' 21\n",
              "35                              Backend Developer  ...  24 Jun' 21\n",
              "36                           Full Stack Developer  ...  24 Jun' 21\n",
              "37                         Junior Sales Associate  ...  24 Jun' 21\n",
              "38                   Digital Marketing Specialist  ...  24 Jun' 21\n",
              "39                          Android App Developer  ...  23 Jun' 21\n",
              "\n",
              "[40 rows x 4 columns]"
            ]
          },
          "metadata": {
            "tags": []
          },
          "execution_count": 174
        }
      ]
    },
    {
      "cell_type": "code",
      "metadata": {
        "id": "vmTClVpNIYan"
      },
      "source": [
        ""
      ],
      "execution_count": null,
      "outputs": []
    },
    {
      "cell_type": "code",
      "metadata": {
        "id": "dWdFgXmkIYdm"
      },
      "source": [
        ""
      ],
      "execution_count": null,
      "outputs": []
    }
  ]
}